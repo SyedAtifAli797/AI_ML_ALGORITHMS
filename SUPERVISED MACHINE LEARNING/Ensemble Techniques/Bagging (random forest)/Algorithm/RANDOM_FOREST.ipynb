{
 "cells": [
  {
   "cell_type": "code",
   "execution_count": 40,
   "id": "1878ca91-77a3-4cca-be4d-e35073aa6534",
   "metadata": {},
   "outputs": [],
   "source": [
    "import pandas as pd\n",
    "import numpy as np\n",
    "import matplotlib.pyplot as plt\n",
    "import seaborn as sns\n",
    "import pickle"
   ]
  },
  {
   "cell_type": "code",
   "execution_count": 41,
   "id": "d2af62d4-85c9-4023-93c2-38a5c93a56ad",
   "metadata": {},
   "outputs": [],
   "source": [
    "with open('X_train_sm.pickle', mode='rb') as file:\n",
    "    X_train = pickle.load(file)\n",
    "\n",
    "with open('y_train_sm.pickle', mode='rb') as file:\n",
    "    y_train = pickle.load(file)\n",
    "\n",
    "with open('X_test.pickle', mode = 'rb') as file:\n",
    "    X_test = pickle.load(file)\n",
    "\n",
    "with open('y_test.pickle', mode = 'rb') as file:\n",
    "    y_test = pickle.load(file)"
   ]
  },
  {
   "cell_type": "code",
   "execution_count": 42,
   "id": "40d941bf-d4a2-4d32-a2fd-b5a7ed4b9adc",
   "metadata": {},
   "outputs": [],
   "source": [
    "from sklearn.tree import DecisionTreeClassifier"
   ]
  },
  {
   "cell_type": "code",
   "execution_count": 43,
   "id": "ea099c6b-c3dc-4b80-a321-158c8c0567a4",
   "metadata": {},
   "outputs": [],
   "source": [
    "dt_clf = DecisionTreeClassifier(random_state=7, max_depth = 4)"
   ]
  },
  {
   "cell_type": "code",
   "execution_count": 44,
   "id": "f6923fa0-b55c-4152-941b-f26142218b6e",
   "metadata": {},
   "outputs": [
    {
     "data": {
      "text/html": [
       "<style>#sk-container-id-6 {\n",
       "  /* Definition of color scheme common for light and dark mode */\n",
       "  --sklearn-color-text: black;\n",
       "  --sklearn-color-line: gray;\n",
       "  /* Definition of color scheme for unfitted estimators */\n",
       "  --sklearn-color-unfitted-level-0: #fff5e6;\n",
       "  --sklearn-color-unfitted-level-1: #f6e4d2;\n",
       "  --sklearn-color-unfitted-level-2: #ffe0b3;\n",
       "  --sklearn-color-unfitted-level-3: chocolate;\n",
       "  /* Definition of color scheme for fitted estimators */\n",
       "  --sklearn-color-fitted-level-0: #f0f8ff;\n",
       "  --sklearn-color-fitted-level-1: #d4ebff;\n",
       "  --sklearn-color-fitted-level-2: #b3dbfd;\n",
       "  --sklearn-color-fitted-level-3: cornflowerblue;\n",
       "\n",
       "  /* Specific color for light theme */\n",
       "  --sklearn-color-text-on-default-background: var(--sg-text-color, var(--theme-code-foreground, var(--jp-content-font-color1, black)));\n",
       "  --sklearn-color-background: var(--sg-background-color, var(--theme-background, var(--jp-layout-color0, white)));\n",
       "  --sklearn-color-border-box: var(--sg-text-color, var(--theme-code-foreground, var(--jp-content-font-color1, black)));\n",
       "  --sklearn-color-icon: #696969;\n",
       "\n",
       "  @media (prefers-color-scheme: dark) {\n",
       "    /* Redefinition of color scheme for dark theme */\n",
       "    --sklearn-color-text-on-default-background: var(--sg-text-color, var(--theme-code-foreground, var(--jp-content-font-color1, white)));\n",
       "    --sklearn-color-background: var(--sg-background-color, var(--theme-background, var(--jp-layout-color0, #111)));\n",
       "    --sklearn-color-border-box: var(--sg-text-color, var(--theme-code-foreground, var(--jp-content-font-color1, white)));\n",
       "    --sklearn-color-icon: #878787;\n",
       "  }\n",
       "}\n",
       "\n",
       "#sk-container-id-6 {\n",
       "  color: var(--sklearn-color-text);\n",
       "}\n",
       "\n",
       "#sk-container-id-6 pre {\n",
       "  padding: 0;\n",
       "}\n",
       "\n",
       "#sk-container-id-6 input.sk-hidden--visually {\n",
       "  border: 0;\n",
       "  clip: rect(1px 1px 1px 1px);\n",
       "  clip: rect(1px, 1px, 1px, 1px);\n",
       "  height: 1px;\n",
       "  margin: -1px;\n",
       "  overflow: hidden;\n",
       "  padding: 0;\n",
       "  position: absolute;\n",
       "  width: 1px;\n",
       "}\n",
       "\n",
       "#sk-container-id-6 div.sk-dashed-wrapped {\n",
       "  border: 1px dashed var(--sklearn-color-line);\n",
       "  margin: 0 0.4em 0.5em 0.4em;\n",
       "  box-sizing: border-box;\n",
       "  padding-bottom: 0.4em;\n",
       "  background-color: var(--sklearn-color-background);\n",
       "}\n",
       "\n",
       "#sk-container-id-6 div.sk-container {\n",
       "  /* jupyter's `normalize.less` sets `[hidden] { display: none; }`\n",
       "     but bootstrap.min.css set `[hidden] { display: none !important; }`\n",
       "     so we also need the `!important` here to be able to override the\n",
       "     default hidden behavior on the sphinx rendered scikit-learn.org.\n",
       "     See: https://github.com/scikit-learn/scikit-learn/issues/21755 */\n",
       "  display: inline-block !important;\n",
       "  position: relative;\n",
       "}\n",
       "\n",
       "#sk-container-id-6 div.sk-text-repr-fallback {\n",
       "  display: none;\n",
       "}\n",
       "\n",
       "div.sk-parallel-item,\n",
       "div.sk-serial,\n",
       "div.sk-item {\n",
       "  /* draw centered vertical line to link estimators */\n",
       "  background-image: linear-gradient(var(--sklearn-color-text-on-default-background), var(--sklearn-color-text-on-default-background));\n",
       "  background-size: 2px 100%;\n",
       "  background-repeat: no-repeat;\n",
       "  background-position: center center;\n",
       "}\n",
       "\n",
       "/* Parallel-specific style estimator block */\n",
       "\n",
       "#sk-container-id-6 div.sk-parallel-item::after {\n",
       "  content: \"\";\n",
       "  width: 100%;\n",
       "  border-bottom: 2px solid var(--sklearn-color-text-on-default-background);\n",
       "  flex-grow: 1;\n",
       "}\n",
       "\n",
       "#sk-container-id-6 div.sk-parallel {\n",
       "  display: flex;\n",
       "  align-items: stretch;\n",
       "  justify-content: center;\n",
       "  background-color: var(--sklearn-color-background);\n",
       "  position: relative;\n",
       "}\n",
       "\n",
       "#sk-container-id-6 div.sk-parallel-item {\n",
       "  display: flex;\n",
       "  flex-direction: column;\n",
       "}\n",
       "\n",
       "#sk-container-id-6 div.sk-parallel-item:first-child::after {\n",
       "  align-self: flex-end;\n",
       "  width: 50%;\n",
       "}\n",
       "\n",
       "#sk-container-id-6 div.sk-parallel-item:last-child::after {\n",
       "  align-self: flex-start;\n",
       "  width: 50%;\n",
       "}\n",
       "\n",
       "#sk-container-id-6 div.sk-parallel-item:only-child::after {\n",
       "  width: 0;\n",
       "}\n",
       "\n",
       "/* Serial-specific style estimator block */\n",
       "\n",
       "#sk-container-id-6 div.sk-serial {\n",
       "  display: flex;\n",
       "  flex-direction: column;\n",
       "  align-items: center;\n",
       "  background-color: var(--sklearn-color-background);\n",
       "  padding-right: 1em;\n",
       "  padding-left: 1em;\n",
       "}\n",
       "\n",
       "\n",
       "/* Toggleable style: style used for estimator/Pipeline/ColumnTransformer box that is\n",
       "clickable and can be expanded/collapsed.\n",
       "- Pipeline and ColumnTransformer use this feature and define the default style\n",
       "- Estimators will overwrite some part of the style using the `sk-estimator` class\n",
       "*/\n",
       "\n",
       "/* Pipeline and ColumnTransformer style (default) */\n",
       "\n",
       "#sk-container-id-6 div.sk-toggleable {\n",
       "  /* Default theme specific background. It is overwritten whether we have a\n",
       "  specific estimator or a Pipeline/ColumnTransformer */\n",
       "  background-color: var(--sklearn-color-background);\n",
       "}\n",
       "\n",
       "/* Toggleable label */\n",
       "#sk-container-id-6 label.sk-toggleable__label {\n",
       "  cursor: pointer;\n",
       "  display: block;\n",
       "  width: 100%;\n",
       "  margin-bottom: 0;\n",
       "  padding: 0.5em;\n",
       "  box-sizing: border-box;\n",
       "  text-align: center;\n",
       "}\n",
       "\n",
       "#sk-container-id-6 label.sk-toggleable__label-arrow:before {\n",
       "  /* Arrow on the left of the label */\n",
       "  content: \"▸\";\n",
       "  float: left;\n",
       "  margin-right: 0.25em;\n",
       "  color: var(--sklearn-color-icon);\n",
       "}\n",
       "\n",
       "#sk-container-id-6 label.sk-toggleable__label-arrow:hover:before {\n",
       "  color: var(--sklearn-color-text);\n",
       "}\n",
       "\n",
       "/* Toggleable content - dropdown */\n",
       "\n",
       "#sk-container-id-6 div.sk-toggleable__content {\n",
       "  max-height: 0;\n",
       "  max-width: 0;\n",
       "  overflow: hidden;\n",
       "  text-align: left;\n",
       "  /* unfitted */\n",
       "  background-color: var(--sklearn-color-unfitted-level-0);\n",
       "}\n",
       "\n",
       "#sk-container-id-6 div.sk-toggleable__content.fitted {\n",
       "  /* fitted */\n",
       "  background-color: var(--sklearn-color-fitted-level-0);\n",
       "}\n",
       "\n",
       "#sk-container-id-6 div.sk-toggleable__content pre {\n",
       "  margin: 0.2em;\n",
       "  border-radius: 0.25em;\n",
       "  color: var(--sklearn-color-text);\n",
       "  /* unfitted */\n",
       "  background-color: var(--sklearn-color-unfitted-level-0);\n",
       "}\n",
       "\n",
       "#sk-container-id-6 div.sk-toggleable__content.fitted pre {\n",
       "  /* unfitted */\n",
       "  background-color: var(--sklearn-color-fitted-level-0);\n",
       "}\n",
       "\n",
       "#sk-container-id-6 input.sk-toggleable__control:checked~div.sk-toggleable__content {\n",
       "  /* Expand drop-down */\n",
       "  max-height: 200px;\n",
       "  max-width: 100%;\n",
       "  overflow: auto;\n",
       "}\n",
       "\n",
       "#sk-container-id-6 input.sk-toggleable__control:checked~label.sk-toggleable__label-arrow:before {\n",
       "  content: \"▾\";\n",
       "}\n",
       "\n",
       "/* Pipeline/ColumnTransformer-specific style */\n",
       "\n",
       "#sk-container-id-6 div.sk-label input.sk-toggleable__control:checked~label.sk-toggleable__label {\n",
       "  color: var(--sklearn-color-text);\n",
       "  background-color: var(--sklearn-color-unfitted-level-2);\n",
       "}\n",
       "\n",
       "#sk-container-id-6 div.sk-label.fitted input.sk-toggleable__control:checked~label.sk-toggleable__label {\n",
       "  background-color: var(--sklearn-color-fitted-level-2);\n",
       "}\n",
       "\n",
       "/* Estimator-specific style */\n",
       "\n",
       "/* Colorize estimator box */\n",
       "#sk-container-id-6 div.sk-estimator input.sk-toggleable__control:checked~label.sk-toggleable__label {\n",
       "  /* unfitted */\n",
       "  background-color: var(--sklearn-color-unfitted-level-2);\n",
       "}\n",
       "\n",
       "#sk-container-id-6 div.sk-estimator.fitted input.sk-toggleable__control:checked~label.sk-toggleable__label {\n",
       "  /* fitted */\n",
       "  background-color: var(--sklearn-color-fitted-level-2);\n",
       "}\n",
       "\n",
       "#sk-container-id-6 div.sk-label label.sk-toggleable__label,\n",
       "#sk-container-id-6 div.sk-label label {\n",
       "  /* The background is the default theme color */\n",
       "  color: var(--sklearn-color-text-on-default-background);\n",
       "}\n",
       "\n",
       "/* On hover, darken the color of the background */\n",
       "#sk-container-id-6 div.sk-label:hover label.sk-toggleable__label {\n",
       "  color: var(--sklearn-color-text);\n",
       "  background-color: var(--sklearn-color-unfitted-level-2);\n",
       "}\n",
       "\n",
       "/* Label box, darken color on hover, fitted */\n",
       "#sk-container-id-6 div.sk-label.fitted:hover label.sk-toggleable__label.fitted {\n",
       "  color: var(--sklearn-color-text);\n",
       "  background-color: var(--sklearn-color-fitted-level-2);\n",
       "}\n",
       "\n",
       "/* Estimator label */\n",
       "\n",
       "#sk-container-id-6 div.sk-label label {\n",
       "  font-family: monospace;\n",
       "  font-weight: bold;\n",
       "  display: inline-block;\n",
       "  line-height: 1.2em;\n",
       "}\n",
       "\n",
       "#sk-container-id-6 div.sk-label-container {\n",
       "  text-align: center;\n",
       "}\n",
       "\n",
       "/* Estimator-specific */\n",
       "#sk-container-id-6 div.sk-estimator {\n",
       "  font-family: monospace;\n",
       "  border: 1px dotted var(--sklearn-color-border-box);\n",
       "  border-radius: 0.25em;\n",
       "  box-sizing: border-box;\n",
       "  margin-bottom: 0.5em;\n",
       "  /* unfitted */\n",
       "  background-color: var(--sklearn-color-unfitted-level-0);\n",
       "}\n",
       "\n",
       "#sk-container-id-6 div.sk-estimator.fitted {\n",
       "  /* fitted */\n",
       "  background-color: var(--sklearn-color-fitted-level-0);\n",
       "}\n",
       "\n",
       "/* on hover */\n",
       "#sk-container-id-6 div.sk-estimator:hover {\n",
       "  /* unfitted */\n",
       "  background-color: var(--sklearn-color-unfitted-level-2);\n",
       "}\n",
       "\n",
       "#sk-container-id-6 div.sk-estimator.fitted:hover {\n",
       "  /* fitted */\n",
       "  background-color: var(--sklearn-color-fitted-level-2);\n",
       "}\n",
       "\n",
       "/* Specification for estimator info (e.g. \"i\" and \"?\") */\n",
       "\n",
       "/* Common style for \"i\" and \"?\" */\n",
       "\n",
       ".sk-estimator-doc-link,\n",
       "a:link.sk-estimator-doc-link,\n",
       "a:visited.sk-estimator-doc-link {\n",
       "  float: right;\n",
       "  font-size: smaller;\n",
       "  line-height: 1em;\n",
       "  font-family: monospace;\n",
       "  background-color: var(--sklearn-color-background);\n",
       "  border-radius: 1em;\n",
       "  height: 1em;\n",
       "  width: 1em;\n",
       "  text-decoration: none !important;\n",
       "  margin-left: 1ex;\n",
       "  /* unfitted */\n",
       "  border: var(--sklearn-color-unfitted-level-1) 1pt solid;\n",
       "  color: var(--sklearn-color-unfitted-level-1);\n",
       "}\n",
       "\n",
       ".sk-estimator-doc-link.fitted,\n",
       "a:link.sk-estimator-doc-link.fitted,\n",
       "a:visited.sk-estimator-doc-link.fitted {\n",
       "  /* fitted */\n",
       "  border: var(--sklearn-color-fitted-level-1) 1pt solid;\n",
       "  color: var(--sklearn-color-fitted-level-1);\n",
       "}\n",
       "\n",
       "/* On hover */\n",
       "div.sk-estimator:hover .sk-estimator-doc-link:hover,\n",
       ".sk-estimator-doc-link:hover,\n",
       "div.sk-label-container:hover .sk-estimator-doc-link:hover,\n",
       ".sk-estimator-doc-link:hover {\n",
       "  /* unfitted */\n",
       "  background-color: var(--sklearn-color-unfitted-level-3);\n",
       "  color: var(--sklearn-color-background);\n",
       "  text-decoration: none;\n",
       "}\n",
       "\n",
       "div.sk-estimator.fitted:hover .sk-estimator-doc-link.fitted:hover,\n",
       ".sk-estimator-doc-link.fitted:hover,\n",
       "div.sk-label-container:hover .sk-estimator-doc-link.fitted:hover,\n",
       ".sk-estimator-doc-link.fitted:hover {\n",
       "  /* fitted */\n",
       "  background-color: var(--sklearn-color-fitted-level-3);\n",
       "  color: var(--sklearn-color-background);\n",
       "  text-decoration: none;\n",
       "}\n",
       "\n",
       "/* Span, style for the box shown on hovering the info icon */\n",
       ".sk-estimator-doc-link span {\n",
       "  display: none;\n",
       "  z-index: 9999;\n",
       "  position: relative;\n",
       "  font-weight: normal;\n",
       "  right: .2ex;\n",
       "  padding: .5ex;\n",
       "  margin: .5ex;\n",
       "  width: min-content;\n",
       "  min-width: 20ex;\n",
       "  max-width: 50ex;\n",
       "  color: var(--sklearn-color-text);\n",
       "  box-shadow: 2pt 2pt 4pt #999;\n",
       "  /* unfitted */\n",
       "  background: var(--sklearn-color-unfitted-level-0);\n",
       "  border: .5pt solid var(--sklearn-color-unfitted-level-3);\n",
       "}\n",
       "\n",
       ".sk-estimator-doc-link.fitted span {\n",
       "  /* fitted */\n",
       "  background: var(--sklearn-color-fitted-level-0);\n",
       "  border: var(--sklearn-color-fitted-level-3);\n",
       "}\n",
       "\n",
       ".sk-estimator-doc-link:hover span {\n",
       "  display: block;\n",
       "}\n",
       "\n",
       "/* \"?\"-specific style due to the `<a>` HTML tag */\n",
       "\n",
       "#sk-container-id-6 a.estimator_doc_link {\n",
       "  float: right;\n",
       "  font-size: 1rem;\n",
       "  line-height: 1em;\n",
       "  font-family: monospace;\n",
       "  background-color: var(--sklearn-color-background);\n",
       "  border-radius: 1rem;\n",
       "  height: 1rem;\n",
       "  width: 1rem;\n",
       "  text-decoration: none;\n",
       "  /* unfitted */\n",
       "  color: var(--sklearn-color-unfitted-level-1);\n",
       "  border: var(--sklearn-color-unfitted-level-1) 1pt solid;\n",
       "}\n",
       "\n",
       "#sk-container-id-6 a.estimator_doc_link.fitted {\n",
       "  /* fitted */\n",
       "  border: var(--sklearn-color-fitted-level-1) 1pt solid;\n",
       "  color: var(--sklearn-color-fitted-level-1);\n",
       "}\n",
       "\n",
       "/* On hover */\n",
       "#sk-container-id-6 a.estimator_doc_link:hover {\n",
       "  /* unfitted */\n",
       "  background-color: var(--sklearn-color-unfitted-level-3);\n",
       "  color: var(--sklearn-color-background);\n",
       "  text-decoration: none;\n",
       "}\n",
       "\n",
       "#sk-container-id-6 a.estimator_doc_link.fitted:hover {\n",
       "  /* fitted */\n",
       "  background-color: var(--sklearn-color-fitted-level-3);\n",
       "}\n",
       "</style><div id=\"sk-container-id-6\" class=\"sk-top-container\"><div class=\"sk-text-repr-fallback\"><pre>DecisionTreeClassifier(max_depth=4, random_state=7)</pre><b>In a Jupyter environment, please rerun this cell to show the HTML representation or trust the notebook. <br />On GitHub, the HTML representation is unable to render, please try loading this page with nbviewer.org.</b></div><div class=\"sk-container\" hidden><div class=\"sk-item\"><div class=\"sk-estimator fitted sk-toggleable\"><input class=\"sk-toggleable__control sk-hidden--visually\" id=\"sk-estimator-id-10\" type=\"checkbox\" checked><label for=\"sk-estimator-id-10\" class=\"sk-toggleable__label fitted sk-toggleable__label-arrow fitted\">&nbsp;&nbsp;DecisionTreeClassifier<a class=\"sk-estimator-doc-link fitted\" rel=\"noreferrer\" target=\"_blank\" href=\"https://scikit-learn.org/1.5/modules/generated/sklearn.tree.DecisionTreeClassifier.html\">?<span>Documentation for DecisionTreeClassifier</span></a><span class=\"sk-estimator-doc-link fitted\">i<span>Fitted</span></span></label><div class=\"sk-toggleable__content fitted\"><pre>DecisionTreeClassifier(max_depth=4, random_state=7)</pre></div> </div></div></div></div>"
      ],
      "text/plain": [
       "DecisionTreeClassifier(max_depth=4, random_state=7)"
      ]
     },
     "execution_count": 44,
     "metadata": {},
     "output_type": "execute_result"
    }
   ],
   "source": [
    "dt_clf.fit(X_train, y_train)"
   ]
  },
  {
   "cell_type": "code",
   "execution_count": 45,
   "id": "15d42a6f-d749-4015-a21a-2dc8aa4c8fe1",
   "metadata": {},
   "outputs": [
    {
     "name": "stdout",
     "output_type": "stream",
     "text": [
      "Train accuracy : 81.02\n",
      "Train accuracy : 73.13\n"
     ]
    }
   ],
   "source": [
    "print(f'Train accuracy : {round(dt_clf.score(X_train, y_train)*100, 2)}')\n",
    "print(f'Train accuracy : {round(dt_clf.score(X_test, y_test)*100, 2)}')"
   ]
  },
  {
   "cell_type": "markdown",
   "id": "e120a4ac-a531-442a-9c3f-9718d30db2b5",
   "metadata": {},
   "source": [
    "# RANDOM FORSEST:-"
   ]
  },
  {
   "cell_type": "code",
   "execution_count": 46,
   "id": "883dfa88-d733-489c-9ee4-518863f18bad",
   "metadata": {},
   "outputs": [],
   "source": [
    "from sklearn.ensemble import RandomForestClassifier"
   ]
  },
  {
   "cell_type": "code",
   "execution_count": 47,
   "id": "c4ae5840-bdaa-41c3-bd5b-6eda8b569ab9",
   "metadata": {},
   "outputs": [
    {
     "name": "stdout",
     "output_type": "stream",
     "text": [
      "Train Accuracy: 88.21\n",
      "Test Accuracy: 82.99\n"
     ]
    }
   ],
   "source": [
    "rf_clf = RandomForestClassifier(random_state=7, max_depth=4, n_estimators=100)\n",
    "rf_clf.fit(X_train, y_train)\n",
    "print(f\"Train Accuracy: {round(rf_clf.score(X_train, y_train)*100,2)}\")\n",
    "print(f\"Test Accuracy: {round(rf_clf.score(X_test, y_test)*100,2)}\")"
   ]
  },
  {
   "cell_type": "markdown",
   "id": "08fadb99-8acb-4476-a806-59f955896634",
   "metadata": {},
   "source": [
    "### WITH CROSS VALIDATION:-"
   ]
  },
  {
   "cell_type": "code",
   "execution_count": 48,
   "id": "2d636068-a9b3-4bf4-880a-b8ba4ca8f7b1",
   "metadata": {},
   "outputs": [],
   "source": [
    "rf_clf2 = RandomForestClassifier(random_state = 7, max_depth=4, n_estimators=100)"
   ]
  },
  {
   "cell_type": "code",
   "execution_count": 49,
   "id": "3d9930c5-7ea1-4d55-8820-76876fbedaae",
   "metadata": {},
   "outputs": [],
   "source": [
    "from sklearn.model_selection import KFold, cross_validate"
   ]
  },
  {
   "cell_type": "code",
   "execution_count": 50,
   "id": "4c244358-9977-4726-854b-75758a91a74b",
   "metadata": {},
   "outputs": [
    {
     "data": {
      "text/plain": [
       "{'fit_time': array([0.19560075, 0.19152761, 0.19943094, 0.19750881, 0.20146322,\n",
       "        0.20146108, 0.19747186, 0.20049953, 0.18945599, 0.19647288]),\n",
       " 'score_time': array([0.00598407, 0.00598216, 0.00798035, 0.0069809 , 0.00698137,\n",
       "        0.00598359, 0.00698161, 0.00598049, 0.0069809 , 0.00698113]),\n",
       " 'test_score': array([0.78282828, 0.76262626, 0.74242424, 0.81313131, 0.82828283,\n",
       "        0.73737374, 0.89847716, 0.85786802, 0.85786802, 0.92893401]),\n",
       " 'train_score': array([0.87064117, 0.87851519, 0.87964004, 0.87739033, 0.88188976,\n",
       "        0.87007874, 0.88026981, 0.88251827, 0.87858347, 0.88139404])}"
      ]
     },
     "execution_count": 50,
     "metadata": {},
     "output_type": "execute_result"
    }
   ],
   "source": [
    "kfold = KFold(n_splits=10)\n",
    "cv_acc_results = cross_validate(rf_clf2, X_train, y_train, cv = kfold, scoring='accuracy', return_train_score = True)\n",
    "cv_acc_results"
   ]
  },
  {
   "cell_type": "code",
   "execution_count": 51,
   "id": "d79dd6bb-9188-488e-8c64-716944b1380e",
   "metadata": {},
   "outputs": [
    {
     "name": "stdout",
     "output_type": "stream",
     "text": [
      "K-fold Accuracy Mean :-\n",
      "Train : 87.80920829247103\n",
      "Validation : 82.09813874788495\n"
     ]
    }
   ],
   "source": [
    "print('K-fold Accuracy Mean :-')\n",
    "print(f'Train : {cv_acc_results['train_score'].mean()*100}')\n",
    "print(f'Validation : {cv_acc_results['test_score'].mean()*100}')"
   ]
  },
  {
   "cell_type": "markdown",
   "id": "0e4c3009-8718-4bb7-8d12-ebc5626953cd",
   "metadata": {},
   "source": [
    "## GRID SEARCH:-"
   ]
  },
  {
   "cell_type": "code",
   "execution_count": 52,
   "id": "28935f21-a71b-4bfb-b5d8-4c10e997c657",
   "metadata": {},
   "outputs": [],
   "source": [
    "from sklearn.model_selection import GridSearchCV"
   ]
  },
  {
   "cell_type": "code",
   "execution_count": 53,
   "id": "a8ef7b04-253b-4875-b7bd-adc42a4f80a6",
   "metadata": {},
   "outputs": [],
   "source": [
    "params = {\n",
    "          'n_estimators' : [100,200,300,400],\n",
    "          'max_depth' : [3,5,10],\n",
    "          'criterion' : ['gini', 'entropy'],\n",
    "          'bootstrap' : [True, False],\n",
    "          'max_features' : [8,9,10] \n",
    "}"
   ]
  },
  {
   "cell_type": "code",
   "execution_count": 54,
   "id": "4f905b74-a45c-4602-8e84-1a99026d8ece",
   "metadata": {},
   "outputs": [],
   "source": [
    "grid = GridSearchCV(estimator = RandomForestClassifier(),\n",
    "                   param_grid = params,\n",
    "                   cv = 3,\n",
    "                   n_jobs = -1,\n",
    "                   verbose = 10\n",
    "                   )"
   ]
  },
  {
   "cell_type": "code",
   "execution_count": null,
   "id": "2b9ebf47-7382-4c55-a4ac-a6a4eb475f04",
   "metadata": {},
   "outputs": [
    {
     "name": "stdout",
     "output_type": "stream",
     "text": [
      "Fitting 3 folds for each of 144 candidates, totalling 432 fits\n"
     ]
    }
   ],
   "source": [
    "grid.fit(X_train, y_train)"
   ]
  },
  {
   "cell_type": "code",
   "execution_count": null,
   "id": "4fbbd290-d2ac-4ec2-8af2-33f013e67e9a",
   "metadata": {},
   "outputs": [],
   "source": [
    "print('Best Params : ', grid.best_params_)\n",
    "print('Best Score : ', grid.best_score_)"
   ]
  },
  {
   "cell_type": "code",
   "execution_count": null,
   "id": "2ac389c3-8549-467d-9ebf-bc10c1281b48",
   "metadata": {},
   "outputs": [],
   "source": [
    "clf2 = RandomForestClassifier(random_state = 7, bootstrap = False, criterion = 'gini', max_depth = 10, max_features = 10, n_estimators = 400)\n",
    "\n",
    "kfold = KFold(n_splits = 10)\n",
    "cv_acc_results = cross_validate(clf2, X_train, y_train, cv = kfold, scoring = 'accuracy', return_train_score= True)\n",
    "cv_acc_results"
   ]
  },
  {
   "cell_type": "code",
   "execution_count": null,
   "id": "cb40389c-f0bb-4b04-bf61-c8e58a231849",
   "metadata": {},
   "outputs": [],
   "source": [
    "print('K-Fold Accuracy Mean')\n",
    "print(f'Train : {cv_acc_results['train_score'].mean()*100}')\n",
    "print(f'Validation : {cv_acc_results['test_score'].mean()*100}')"
   ]
  },
  {
   "cell_type": "code",
   "execution_count": null,
   "id": "97946203-6051-44ac-899f-2361c403b252",
   "metadata": {},
   "outputs": [],
   "source": [
    "clf2.fit(X_train,y_train)"
   ]
  },
  {
   "cell_type": "code",
   "execution_count": null,
   "id": "33f5f80f-b747-4872-b875-063196707645",
   "metadata": {},
   "outputs": [],
   "source": [
    "print(f'Train Accuracy : {round(clf2.score(X_train, y_train)*100,2)}')\n",
    "print(f'Test Accuracy : {round(clf2.score(X_test, y_test)*100,2)}')"
   ]
  },
  {
   "cell_type": "markdown",
   "id": "de50e43c-43b6-49af-8540-2b9c934cb060",
   "metadata": {},
   "source": [
    "## RANDOMIZED SEARCH CV:-"
   ]
  },
  {
   "cell_type": "code",
   "execution_count": null,
   "id": "7f05e417-970b-4901-9080-1e2e5fa4995a",
   "metadata": {},
   "outputs": [],
   "source": [
    "from sklearn.model_selection import RandomizedSearchCV\n",
    "from scipy.stats import uniform\n",
    "from random import randint"
   ]
  },
  {
   "cell_type": "code",
   "execution_count": null,
   "id": "e97d96b0-b3d3-42bf-82aa-884ca7a1e75f",
   "metadata": {},
   "outputs": [],
   "source": [
    "params = {'ccp_alpha': uniform(loc=0, scale=0.4),\n",
    "         'n_estimators': [100,150,200,250,300,350,400,450,500,550],\n",
    "         'bootstrap': [True, False],\n",
    "         'max_depth': [4,5,6,7,8,9,10]\n",
    "         }"
   ]
  },
  {
   "cell_type": "code",
   "execution_count": null,
   "id": "e093415e-996f-43aa-8205-3b0075783ddf",
   "metadata": {},
   "outputs": [],
   "source": [
    "random = RandomizedSearchCV(estimator = RandomForestClassifier(random_state=7),\n",
    "                            param_distributions = params,\n",
    "                            scoring = 'accuracy',\n",
    "                            cv = 3,\n",
    "                            n_iter=15,\n",
    "                            n_jobs=-1,\n",
    "                            verbose=10\n",
    "                            )"
   ]
  },
  {
   "cell_type": "code",
   "execution_count": null,
   "id": "1facea98-701b-4420-ae64-5e3fdee8b07c",
   "metadata": {},
   "outputs": [],
   "source": [
    "random.fit(X_train, y_train)"
   ]
  },
  {
   "cell_type": "code",
   "execution_count": null,
   "id": "bd30e0de-de15-4103-b5a8-fbaa14bcf6ef",
   "metadata": {},
   "outputs": [],
   "source": [
    "print('Best Params', random.best_params_)\n",
    "print('Best Score', random.best_score_)"
   ]
  },
  {
   "cell_type": "code",
   "execution_count": null,
   "id": "dc19849e-90e8-4c8b-bd35-f9f6c8c3b732",
   "metadata": {},
   "outputs": [],
   "source": [
    "clf3 = RandomForestClassifier(random_state = 7,\n",
    "                              bootstrap = True,\n",
    "                              ccp_alpha = 0.0006210960530503851,\n",
    "                              max_depth = 8,\n",
    "                              n_estimators = 350\n",
    ")\n",
    "\n",
    "kfold = KFold(n_splits=10)\n",
    "cv_acc_results = cross_validate(clf3, X_train, y_train, cv = kfold, scoring = 'accuracy', return_train_score = True)\n",
    "cv_acc_results"
   ]
  },
  {
   "cell_type": "code",
   "execution_count": null,
   "id": "7a3f033b-e3a3-4288-9274-76783801590a",
   "metadata": {},
   "outputs": [],
   "source": [
    "print(\"K-Fold Accuracy Mean:-\")\n",
    "print(f'Train : {cv_acc_results['train_score'].mean()*100}')\n",
    "print(f'Validation : {cv_acc_results['test_score'].mean()*100}')"
   ]
  },
  {
   "cell_type": "code",
   "execution_count": null,
   "id": "b4522892-81b1-4890-90c7-5812a28f7560",
   "metadata": {},
   "outputs": [],
   "source": [
    "clf3.fit(X_train, y_train)"
   ]
  },
  {
   "cell_type": "code",
   "execution_count": null,
   "id": "25ed58ee-952e-4c4b-af02-e61783d282c5",
   "metadata": {},
   "outputs": [],
   "source": [
    "print(f\"Train Accuracy: {round(clf3.score(X_train, y_train)*100,2)}\")\n",
    "print(f\"Test Accuracy: {round(clf3.score(X_test, y_test)*100,2)}\")"
   ]
  },
  {
   "cell_type": "markdown",
   "id": "44e5a3f2-474c-4287-ae06-12632ca8e54e",
   "metadata": {},
   "source": [
    "#### Feature Importance:-"
   ]
  },
  {
   "cell_type": "code",
   "execution_count": null,
   "id": "13a0cd42-be13-4b63-bb36-e9ee7fdb0e3f",
   "metadata": {},
   "outputs": [],
   "source": [
    "importances = clf3.feature_importances_\n",
    "\n",
    "# Sort feature importances in descending order\n",
    "indices = np.argsort(importances)[::-1]\n",
    "\n",
    "# Rearrange feature names so they match the sorted feature importances\n",
    "names = [X_train.columns[i] for i in indices]"
   ]
  },
  {
   "cell_type": "code",
   "execution_count": null,
   "id": "5bb47405-509f-4200-b2f6-390721fa2a56",
   "metadata": {},
   "outputs": [],
   "source": [
    "plt.figure(figsize=(15, 7))\n",
    "plt.bar(range(X_train.shape[1]), importances[indices])\n",
    "plt.title(\"Feature Importance\")\n",
    "plt.xticks(range(X_train.shape[1]), names, rotation=90)\n",
    "plt.show()"
   ]
  },
  {
   "cell_type": "code",
   "execution_count": null,
   "id": "d6102a03-d256-48c1-9f3f-08f94d2dd5dc",
   "metadata": {},
   "outputs": [],
   "source": []
  }
 ],
 "metadata": {
  "kernelspec": {
   "display_name": "Python 3 (ipykernel)",
   "language": "python",
   "name": "python3"
  },
  "language_info": {
   "codemirror_mode": {
    "name": "ipython",
    "version": 3
   },
   "file_extension": ".py",
   "mimetype": "text/x-python",
   "name": "python",
   "nbconvert_exporter": "python",
   "pygments_lexer": "ipython3",
   "version": "3.12.3"
  }
 },
 "nbformat": 4,
 "nbformat_minor": 5
}
