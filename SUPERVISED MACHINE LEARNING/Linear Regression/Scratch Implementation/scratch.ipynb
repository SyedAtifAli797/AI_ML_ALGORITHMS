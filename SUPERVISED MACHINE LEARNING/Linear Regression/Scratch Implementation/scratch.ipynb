{
 "cells": [
  {
   "cell_type": "markdown",
   "id": "1f0cc9c1-4eb0-4a5b-813e-04d205b19c6b",
   "metadata": {},
   "source": [
    "---> Training Session OR .fit method :-"
   ]
  },
  {
   "cell_type": "code",
   "execution_count": 265,
   "id": "43ade2d2-4b71-47b9-a462-f36eae1c79a8",
   "metadata": {},
   "outputs": [],
   "source": [
    "a = [(2,2), (1,5), (6,1), (2,4)]\n",
    "m = 0.2\n",
    "c = 1"
   ]
  },
  {
   "cell_type": "code",
   "execution_count": 266,
   "id": "8052197c-d4cd-4c39-80cb-329007dd5f72",
   "metadata": {},
   "outputs": [],
   "source": [
    "actual = []\n",
    "predicted = []\n",
    "for i in a:\n",
    "    actual.append(i[1])\n",
    "    y_hat = m*i[0] + c\n",
    "    predicted.append(y_hat)\n",
    "    "
   ]
  },
  {
   "cell_type": "code",
   "execution_count": 267,
   "id": "be246987-6515-4525-a429-88c9e753b0de",
   "metadata": {},
   "outputs": [
    {
     "name": "stdout",
     "output_type": "stream",
     "text": [
      "[2, 5, 1, 4]\n"
     ]
    }
   ],
   "source": [
    "print(actual)"
   ]
  },
  {
   "cell_type": "code",
   "execution_count": 268,
   "id": "b18832bf-facf-48ea-9d73-eed5071914ab",
   "metadata": {},
   "outputs": [
    {
     "name": "stdout",
     "output_type": "stream",
     "text": [
      "[1.4, 1.2, 2.2, 1.4]\n"
     ]
    }
   ],
   "source": [
    "print(predicted)"
   ]
  },
  {
   "cell_type": "code",
   "execution_count": 269,
   "id": "cd38db48-39a0-4eaf-b4e3-e543b576e024",
   "metadata": {},
   "outputs": [],
   "source": [
    "error = [(i[0] - i[1])**2 for i in zip(actual, predicted)] "
   ]
  },
  {
   "cell_type": "code",
   "execution_count": 270,
   "id": "876cf628-590e-4001-834a-f4b2a07a513e",
   "metadata": {},
   "outputs": [
    {
     "data": {
      "text/plain": [
       "[0.3600000000000001, 14.44, 1.4400000000000004, 6.760000000000001]"
      ]
     },
     "execution_count": 270,
     "metadata": {},
     "output_type": "execute_result"
    }
   ],
   "source": [
    "error"
   ]
  },
  {
   "cell_type": "code",
   "execution_count": 271,
   "id": "145c725d-ccd5-49f1-9058-89f21ad3b692",
   "metadata": {},
   "outputs": [],
   "source": [
    "loss = sum(error)/len(error)\n"
   ]
  },
  {
   "cell_type": "code",
   "execution_count": 272,
   "id": "9720c34a-d946-4038-825b-b4da97a93ff3",
   "metadata": {},
   "outputs": [
    {
     "data": {
      "text/plain": [
       "5.75"
      ]
     },
     "execution_count": 272,
     "metadata": {},
     "output_type": "execute_result"
    }
   ],
   "source": [
    "loss"
   ]
  },
  {
   "cell_type": "code",
   "execution_count": 273,
   "id": "d17ad058-ac3d-4fe5-90fb-0987110ef36a",
   "metadata": {},
   "outputs": [],
   "source": [
    "a = [(2,2), (1,5), (6,1), (2,4)]\n",
    "m = 0.2\n",
    "c = 1"
   ]
  },
  {
   "cell_type": "code",
   "execution_count": 274,
   "id": "1a8929a5-dd03-4ab1-a6bb-a2d477f717ff",
   "metadata": {},
   "outputs": [],
   "source": [
    "m_loss_list = []\n",
    "c_loss_list = []\n",
    "n = len(a)\n",
    "for i in a:\n",
    "    m_loss_list.append((i[1] - m*i[0] - c)* i[0]) \n",
    "    c_loss_list.append((i[1] - m*i[0] - c))\n",
    "    "
   ]
  },
  {
   "cell_type": "code",
   "execution_count": 275,
   "id": "b21713fe-b990-43d5-957b-f083a4e79fba",
   "metadata": {},
   "outputs": [],
   "source": [
    "# dL_dm = -2/n*sum((y-m*x-c)*x)\n",
    "# dL_dc = -2/n*sum(y-m*x-c)"
   ]
  },
  {
   "cell_type": "code",
   "execution_count": 276,
   "id": "4189b0d9-6cc5-4b75-a8c7-8dc6a2aa40a0",
   "metadata": {},
   "outputs": [],
   "source": [
    "dl_dm = -2/n * sum(m_loss_list)\n",
    "dl_dc = -2/n * sum(c_loss_list)"
   ]
  },
  {
   "cell_type": "code",
   "execution_count": 277,
   "id": "3ba29122-6176-45d2-a170-120fa2347b88",
   "metadata": {},
   "outputs": [
    {
     "data": {
      "text/plain": [
       "-1.4999999999999996"
      ]
     },
     "execution_count": 277,
     "metadata": {},
     "output_type": "execute_result"
    }
   ],
   "source": [
    "dl_dm\n"
   ]
  },
  {
   "cell_type": "code",
   "execution_count": 278,
   "id": "3eb89ff5-bd12-4615-b39c-3fe8fc32f0c5",
   "metadata": {},
   "outputs": [
    {
     "data": {
      "text/plain": [
       "-2.9"
      ]
     },
     "execution_count": 278,
     "metadata": {},
     "output_type": "execute_result"
    }
   ],
   "source": [
    "dl_dc"
   ]
  },
  {
   "cell_type": "code",
   "execution_count": 279,
   "id": "e63a867d-f37e-492c-9076-e000856400c9",
   "metadata": {},
   "outputs": [],
   "source": [
    "learning_rate = 0.001\n",
    "m1 = m - learning_rate* dl_dm\n",
    "c1 = c - learning_rate* dl_dc"
   ]
  },
  {
   "cell_type": "code",
   "execution_count": 280,
   "id": "116940c9-a2b5-4230-b091-ac99fe51ba9e",
   "metadata": {},
   "outputs": [
    {
     "data": {
      "text/plain": [
       "(0.2015, 1.0029)"
      ]
     },
     "execution_count": 280,
     "metadata": {},
     "output_type": "execute_result"
    }
   ],
   "source": [
    "m1, c1"
   ]
  },
  {
   "cell_type": "code",
   "execution_count": 281,
   "id": "96d69e76-3bfb-4226-ab8d-c47f0993f4b0",
   "metadata": {},
   "outputs": [],
   "source": [
    "a = [(2,2),(1,5),(6,1),(2,4)]\n",
    "m = 0.2\n",
    "c = 1\n",
    "n = len(a)\n",
    "learing_rate = 0.01"
   ]
  },
  {
   "cell_type": "code",
   "execution_count": 282,
   "id": "aaddea19-de93-4614-8cbf-4172e57206a8",
   "metadata": {},
   "outputs": [],
   "source": [
    "for i in range(1000000):\n",
    "    m_loss_list = []\n",
    "    c_loss_list = []\n",
    "\n",
    "    for j in a:\n",
    "        m_loss_list.append((j[1]-m*j[0]-c)*j[0])\n",
    "        c_loss_list.append((j[1]-m*j[0]-c))\n",
    "\n",
    "\n",
    "    dl_dm = -2/n * sum(m_loss_list)\n",
    "    dl_dc = -2/n * sum(c_loss_list)\n",
    "\n",
    "    m1 = m - learning_rate*dl_dm\n",
    "    c1 = c - learning_rate*dl_dc\n",
    "    \n",
    "    m = m1\n",
    "    c = c1\n",
    "    "
   ]
  },
  {
   "cell_type": "code",
   "execution_count": 283,
   "id": "e06e244a-9be5-420b-8871-ba5e861f228d",
   "metadata": {},
   "outputs": [
    {
     "name": "stdout",
     "output_type": "stream",
     "text": [
      "Best set of weights : -0.6779661016947423 , 4.864406779660319\n"
     ]
    }
   ],
   "source": [
    "print(f\"Best set of weights : {m} , {c}\")"
   ]
  },
  {
   "cell_type": "markdown",
   "id": "9f9d5b85-4a38-4059-86ae-b80e28b494c7",
   "metadata": {},
   "source": [
    "---> Prediction session OR .predict method :-"
   ]
  },
  {
   "cell_type": "code",
   "execution_count": 284,
   "id": "dbf88736-e800-41d6-81eb-9c2b9966c93a",
   "metadata": {},
   "outputs": [],
   "source": [
    "y_pred = [m*j[0]+c for j in a]"
   ]
  },
  {
   "cell_type": "code",
   "execution_count": 285,
   "id": "3c9624c7-6d30-40f6-a204-24bcbf20e278",
   "metadata": {},
   "outputs": [
    {
     "data": {
      "text/plain": [
       "[3.5084745762708347, 4.186440677965577, 0.7966101694918652, 3.5084745762708347]"
      ]
     },
     "execution_count": 285,
     "metadata": {},
     "output_type": "execute_result"
    }
   ],
   "source": [
    "y_pred"
   ]
  },
  {
   "cell_type": "code",
   "execution_count": 286,
   "id": "030af71f-cfa8-447b-a1bd-57774ad88072",
   "metadata": {},
   "outputs": [
    {
     "data": {
      "text/plain": [
       "[2, 5, 1, 4]"
      ]
     },
     "execution_count": 286,
     "metadata": {},
     "output_type": "execute_result"
    }
   ],
   "source": [
    "y_actual = [i[1] for i in a]\n",
    "y_actual"
   ]
  },
  {
   "cell_type": "code",
   "execution_count": 291,
   "id": "0ddc1686-169b-4674-bf3d-0445f70c6bef",
   "metadata": {},
   "outputs": [
    {
     "data": {
      "text/plain": [
       "[2.275495547255474,\n",
       " 0.6618787704691097,\n",
       " 0.04136742315412778,\n",
       " 0.2415972421721355]"
      ]
     },
     "execution_count": 291,
     "metadata": {},
     "output_type": "execute_result"
    }
   ],
   "source": [
    "error = [(i[0] - i[1])**2 for i in zip(y_actual, y_pred)]\n",
    "error"
   ]
  },
  {
   "cell_type": "code",
   "execution_count": 292,
   "id": "8d948c58-555f-4c5a-b271-d9c94b52c32f",
   "metadata": {},
   "outputs": [
    {
     "data": {
      "text/plain": [
       "0.8050847457627117"
      ]
     },
     "execution_count": 292,
     "metadata": {},
     "output_type": "execute_result"
    }
   ],
   "source": [
    "loss = sum(error)/len(error)\n",
    "loss"
   ]
  },
  {
   "cell_type": "code",
   "execution_count": null,
   "id": "b875de26-db2c-4052-aad1-4571b3ffe817",
   "metadata": {},
   "outputs": [],
   "source": []
  }
 ],
 "metadata": {
  "kernelspec": {
   "display_name": "Python 3 (ipykernel)",
   "language": "python",
   "name": "python3"
  },
  "language_info": {
   "codemirror_mode": {
    "name": "ipython",
    "version": 3
   },
   "file_extension": ".py",
   "mimetype": "text/x-python",
   "name": "python",
   "nbconvert_exporter": "python",
   "pygments_lexer": "ipython3",
   "version": "3.12.3"
  }
 },
 "nbformat": 4,
 "nbformat_minor": 5
}
