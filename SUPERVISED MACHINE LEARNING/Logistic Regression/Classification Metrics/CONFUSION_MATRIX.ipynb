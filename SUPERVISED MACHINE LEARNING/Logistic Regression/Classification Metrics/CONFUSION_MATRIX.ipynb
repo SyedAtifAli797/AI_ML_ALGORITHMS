{
 "cells": [
  {
   "cell_type": "code",
   "execution_count": 2,
   "id": "515bb295-7248-466d-9f82-e155246cb1dc",
   "metadata": {},
   "outputs": [],
   "source": [
    "import pandas as pd\n",
    "import numpy as np\n",
    "import matplotlib.pyplot as plt\n",
    "import seaborn as sns"
   ]
  },
  {
   "cell_type": "code",
   "execution_count": 3,
   "id": "513397ea-e8ba-4abd-a022-e73f41962785",
   "metadata": {},
   "outputs": [
    {
     "data": {
      "text/html": [
       "<div>\n",
       "<style scoped>\n",
       "    .dataframe tbody tr th:only-of-type {\n",
       "        vertical-align: middle;\n",
       "    }\n",
       "\n",
       "    .dataframe tbody tr th {\n",
       "        vertical-align: top;\n",
       "    }\n",
       "\n",
       "    .dataframe thead th {\n",
       "        text-align: right;\n",
       "    }\n",
       "</style>\n",
       "<table border=\"1\" class=\"dataframe\">\n",
       "  <thead>\n",
       "    <tr style=\"text-align: right;\">\n",
       "      <th></th>\n",
       "      <th>label_num</th>\n",
       "      <th>Feature0</th>\n",
       "      <th>Feature1</th>\n",
       "      <th>Feature2</th>\n",
       "      <th>Feature3</th>\n",
       "      <th>Feature4</th>\n",
       "      <th>Feature5</th>\n",
       "      <th>Feature6</th>\n",
       "      <th>Feature7</th>\n",
       "      <th>Feature8</th>\n",
       "      <th>Feature9</th>\n",
       "      <th>Feature10</th>\n",
       "      <th>Feature11</th>\n",
       "      <th>Feature12</th>\n",
       "      <th>Feature13</th>\n",
       "      <th>Feature14</th>\n",
       "    </tr>\n",
       "  </thead>\n",
       "  <tbody>\n",
       "    <tr>\n",
       "      <th>0</th>\n",
       "      <td>0</td>\n",
       "      <td>-0.031489</td>\n",
       "      <td>-0.003323</td>\n",
       "      <td>-0.071238</td>\n",
       "      <td>0.047743</td>\n",
       "      <td>0.060798</td>\n",
       "      <td>0.046597</td>\n",
       "      <td>-0.069530</td>\n",
       "      <td>-0.000031</td>\n",
       "      <td>-0.037924</td>\n",
       "      <td>2.405918e-02</td>\n",
       "      <td>-0.015085</td>\n",
       "      <td>-0.007752</td>\n",
       "      <td>-0.021617</td>\n",
       "      <td>-0.025395</td>\n",
       "      <td>0.046050</td>\n",
       "    </tr>\n",
       "    <tr>\n",
       "      <th>1</th>\n",
       "      <td>0</td>\n",
       "      <td>-0.122601</td>\n",
       "      <td>0.114176</td>\n",
       "      <td>0.460451</td>\n",
       "      <td>0.000953</td>\n",
       "      <td>0.014707</td>\n",
       "      <td>0.007610</td>\n",
       "      <td>-0.011173</td>\n",
       "      <td>-0.052478</td>\n",
       "      <td>0.040209</td>\n",
       "      <td>7.551698e-05</td>\n",
       "      <td>0.010306</td>\n",
       "      <td>0.023397</td>\n",
       "      <td>-0.007294</td>\n",
       "      <td>0.063543</td>\n",
       "      <td>0.081119</td>\n",
       "    </tr>\n",
       "    <tr>\n",
       "      <th>2</th>\n",
       "      <td>0</td>\n",
       "      <td>-0.076681</td>\n",
       "      <td>-0.084330</td>\n",
       "      <td>-0.054658</td>\n",
       "      <td>-0.048236</td>\n",
       "      <td>-0.019999</td>\n",
       "      <td>-0.045909</td>\n",
       "      <td>-0.004712</td>\n",
       "      <td>-0.001524</td>\n",
       "      <td>0.013735</td>\n",
       "      <td>-2.242872e-02</td>\n",
       "      <td>0.010273</td>\n",
       "      <td>-0.007458</td>\n",
       "      <td>-0.044340</td>\n",
       "      <td>-0.051093</td>\n",
       "      <td>0.025553</td>\n",
       "    </tr>\n",
       "    <tr>\n",
       "      <th>3</th>\n",
       "      <td>1</td>\n",
       "      <td>-0.075948</td>\n",
       "      <td>-0.059706</td>\n",
       "      <td>-0.025301</td>\n",
       "      <td>-0.037603</td>\n",
       "      <td>-0.001208</td>\n",
       "      <td>-0.030660</td>\n",
       "      <td>0.018873</td>\n",
       "      <td>-0.013434</td>\n",
       "      <td>-0.014981</td>\n",
       "      <td>7.414826e-04</td>\n",
       "      <td>0.005653</td>\n",
       "      <td>0.032153</td>\n",
       "      <td>0.001884</td>\n",
       "      <td>-0.018005</td>\n",
       "      <td>-0.011060</td>\n",
       "    </tr>\n",
       "    <tr>\n",
       "      <th>4</th>\n",
       "      <td>0</td>\n",
       "      <td>-0.054680</td>\n",
       "      <td>0.033033</td>\n",
       "      <td>-0.090885</td>\n",
       "      <td>-0.047280</td>\n",
       "      <td>-0.029304</td>\n",
       "      <td>0.085893</td>\n",
       "      <td>-0.105351</td>\n",
       "      <td>-0.053915</td>\n",
       "      <td>-0.006857</td>\n",
       "      <td>2.167316e-02</td>\n",
       "      <td>0.056718</td>\n",
       "      <td>0.006140</td>\n",
       "      <td>0.042217</td>\n",
       "      <td>0.018862</td>\n",
       "      <td>-0.007373</td>\n",
       "    </tr>\n",
       "    <tr>\n",
       "      <th>...</th>\n",
       "      <td>...</td>\n",
       "      <td>...</td>\n",
       "      <td>...</td>\n",
       "      <td>...</td>\n",
       "      <td>...</td>\n",
       "      <td>...</td>\n",
       "      <td>...</td>\n",
       "      <td>...</td>\n",
       "      <td>...</td>\n",
       "      <td>...</td>\n",
       "      <td>...</td>\n",
       "      <td>...</td>\n",
       "      <td>...</td>\n",
       "      <td>...</td>\n",
       "      <td>...</td>\n",
       "      <td>...</td>\n",
       "    </tr>\n",
       "    <tr>\n",
       "      <th>5166</th>\n",
       "      <td>0</td>\n",
       "      <td>-0.031692</td>\n",
       "      <td>0.148241</td>\n",
       "      <td>0.188167</td>\n",
       "      <td>0.042586</td>\n",
       "      <td>-0.065395</td>\n",
       "      <td>-0.032191</td>\n",
       "      <td>-0.040826</td>\n",
       "      <td>0.330095</td>\n",
       "      <td>0.014898</td>\n",
       "      <td>8.012419e-02</td>\n",
       "      <td>-0.116618</td>\n",
       "      <td>-0.010719</td>\n",
       "      <td>-0.012583</td>\n",
       "      <td>-0.057367</td>\n",
       "      <td>-0.057513</td>\n",
       "    </tr>\n",
       "    <tr>\n",
       "      <th>5167</th>\n",
       "      <td>0</td>\n",
       "      <td>-0.046865</td>\n",
       "      <td>0.083900</td>\n",
       "      <td>-0.059857</td>\n",
       "      <td>0.152789</td>\n",
       "      <td>0.005191</td>\n",
       "      <td>0.114154</td>\n",
       "      <td>0.418390</td>\n",
       "      <td>0.158786</td>\n",
       "      <td>0.071113</td>\n",
       "      <td>4.309074e-01</td>\n",
       "      <td>0.547246</td>\n",
       "      <td>0.002169</td>\n",
       "      <td>-0.153765</td>\n",
       "      <td>0.012520</td>\n",
       "      <td>0.003188</td>\n",
       "    </tr>\n",
       "    <tr>\n",
       "      <th>5168</th>\n",
       "      <td>0</td>\n",
       "      <td>-0.086257</td>\n",
       "      <td>-0.025376</td>\n",
       "      <td>-0.112771</td>\n",
       "      <td>0.301561</td>\n",
       "      <td>0.754613</td>\n",
       "      <td>-0.202125</td>\n",
       "      <td>-0.184104</td>\n",
       "      <td>0.030056</td>\n",
       "      <td>-0.001334</td>\n",
       "      <td>2.672995e-02</td>\n",
       "      <td>0.028471</td>\n",
       "      <td>-0.003212</td>\n",
       "      <td>0.046831</td>\n",
       "      <td>-0.021603</td>\n",
       "      <td>-0.025126</td>\n",
       "    </tr>\n",
       "    <tr>\n",
       "      <th>5169</th>\n",
       "      <td>0</td>\n",
       "      <td>-0.054057</td>\n",
       "      <td>-0.029265</td>\n",
       "      <td>0.027334</td>\n",
       "      <td>-0.036550</td>\n",
       "      <td>0.030322</td>\n",
       "      <td>-0.010576</td>\n",
       "      <td>-0.003889</td>\n",
       "      <td>0.030068</td>\n",
       "      <td>-0.039968</td>\n",
       "      <td>-1.912216e-02</td>\n",
       "      <td>0.016187</td>\n",
       "      <td>0.008314</td>\n",
       "      <td>-0.036538</td>\n",
       "      <td>-0.017858</td>\n",
       "      <td>0.001310</td>\n",
       "    </tr>\n",
       "    <tr>\n",
       "      <th>5170</th>\n",
       "      <td>1</td>\n",
       "      <td>-0.081840</td>\n",
       "      <td>-0.083789</td>\n",
       "      <td>-0.048493</td>\n",
       "      <td>-0.056505</td>\n",
       "      <td>-0.018306</td>\n",
       "      <td>-0.049036</td>\n",
       "      <td>0.024980</td>\n",
       "      <td>-0.012626</td>\n",
       "      <td>0.005694</td>\n",
       "      <td>-3.810829e-07</td>\n",
       "      <td>-0.014166</td>\n",
       "      <td>-0.041008</td>\n",
       "      <td>-0.021019</td>\n",
       "      <td>0.001986</td>\n",
       "      <td>0.003313</td>\n",
       "    </tr>\n",
       "  </tbody>\n",
       "</table>\n",
       "<p>5171 rows × 16 columns</p>\n",
       "</div>"
      ],
      "text/plain": [
       "      label_num  Feature0  Feature1  Feature2  Feature3  Feature4  Feature5  \\\n",
       "0             0 -0.031489 -0.003323 -0.071238  0.047743  0.060798  0.046597   \n",
       "1             0 -0.122601  0.114176  0.460451  0.000953  0.014707  0.007610   \n",
       "2             0 -0.076681 -0.084330 -0.054658 -0.048236 -0.019999 -0.045909   \n",
       "3             1 -0.075948 -0.059706 -0.025301 -0.037603 -0.001208 -0.030660   \n",
       "4             0 -0.054680  0.033033 -0.090885 -0.047280 -0.029304  0.085893   \n",
       "...         ...       ...       ...       ...       ...       ...       ...   \n",
       "5166          0 -0.031692  0.148241  0.188167  0.042586 -0.065395 -0.032191   \n",
       "5167          0 -0.046865  0.083900 -0.059857  0.152789  0.005191  0.114154   \n",
       "5168          0 -0.086257 -0.025376 -0.112771  0.301561  0.754613 -0.202125   \n",
       "5169          0 -0.054057 -0.029265  0.027334 -0.036550  0.030322 -0.010576   \n",
       "5170          1 -0.081840 -0.083789 -0.048493 -0.056505 -0.018306 -0.049036   \n",
       "\n",
       "      Feature6  Feature7  Feature8      Feature9  Feature10  Feature11  \\\n",
       "0    -0.069530 -0.000031 -0.037924  2.405918e-02  -0.015085  -0.007752   \n",
       "1    -0.011173 -0.052478  0.040209  7.551698e-05   0.010306   0.023397   \n",
       "2    -0.004712 -0.001524  0.013735 -2.242872e-02   0.010273  -0.007458   \n",
       "3     0.018873 -0.013434 -0.014981  7.414826e-04   0.005653   0.032153   \n",
       "4    -0.105351 -0.053915 -0.006857  2.167316e-02   0.056718   0.006140   \n",
       "...        ...       ...       ...           ...        ...        ...   \n",
       "5166 -0.040826  0.330095  0.014898  8.012419e-02  -0.116618  -0.010719   \n",
       "5167  0.418390  0.158786  0.071113  4.309074e-01   0.547246   0.002169   \n",
       "5168 -0.184104  0.030056 -0.001334  2.672995e-02   0.028471  -0.003212   \n",
       "5169 -0.003889  0.030068 -0.039968 -1.912216e-02   0.016187   0.008314   \n",
       "5170  0.024980 -0.012626  0.005694 -3.810829e-07  -0.014166  -0.041008   \n",
       "\n",
       "      Feature12  Feature13  Feature14  \n",
       "0     -0.021617  -0.025395   0.046050  \n",
       "1     -0.007294   0.063543   0.081119  \n",
       "2     -0.044340  -0.051093   0.025553  \n",
       "3      0.001884  -0.018005  -0.011060  \n",
       "4      0.042217   0.018862  -0.007373  \n",
       "...         ...        ...        ...  \n",
       "5166  -0.012583  -0.057367  -0.057513  \n",
       "5167  -0.153765   0.012520   0.003188  \n",
       "5168   0.046831  -0.021603  -0.025126  \n",
       "5169  -0.036538  -0.017858   0.001310  \n",
       "5170  -0.021019   0.001986   0.003313  \n",
       "\n",
       "[5171 rows x 16 columns]"
      ]
     },
     "execution_count": 3,
     "metadata": {},
     "output_type": "execute_result"
    }
   ],
   "source": [
    "df = pd.read_csv('spamEmail.csv')\n",
    "df"
   ]
  },
  {
   "cell_type": "code",
   "execution_count": 4,
   "id": "8d16bb4b-9aaa-487a-b749-611b4031406c",
   "metadata": {},
   "outputs": [
    {
     "name": "stdout",
     "output_type": "stream",
     "text": [
      "<class 'pandas.core.frame.DataFrame'>\n",
      "RangeIndex: 5171 entries, 0 to 5170\n",
      "Data columns (total 16 columns):\n",
      " #   Column     Non-Null Count  Dtype  \n",
      "---  ------     --------------  -----  \n",
      " 0   label_num  5171 non-null   int64  \n",
      " 1   Feature0   5171 non-null   float64\n",
      " 2   Feature1   5171 non-null   float64\n",
      " 3   Feature2   5171 non-null   float64\n",
      " 4   Feature3   5171 non-null   float64\n",
      " 5   Feature4   5171 non-null   float64\n",
      " 6   Feature5   5171 non-null   float64\n",
      " 7   Feature6   5171 non-null   float64\n",
      " 8   Feature7   5171 non-null   float64\n",
      " 9   Feature8   5171 non-null   float64\n",
      " 10  Feature9   5171 non-null   float64\n",
      " 11  Feature10  5171 non-null   float64\n",
      " 12  Feature11  5171 non-null   float64\n",
      " 13  Feature12  5171 non-null   float64\n",
      " 14  Feature13  5171 non-null   float64\n",
      " 15  Feature14  5171 non-null   float64\n",
      "dtypes: float64(15), int64(1)\n",
      "memory usage: 646.5 KB\n"
     ]
    }
   ],
   "source": [
    "df.info()"
   ]
  },
  {
   "cell_type": "code",
   "execution_count": 8,
   "id": "b539f140-8df2-47af-9e2b-bc108087c21b",
   "metadata": {},
   "outputs": [
    {
     "data": {
      "text/html": [
       "<div>\n",
       "<style scoped>\n",
       "    .dataframe tbody tr th:only-of-type {\n",
       "        vertical-align: middle;\n",
       "    }\n",
       "\n",
       "    .dataframe tbody tr th {\n",
       "        vertical-align: top;\n",
       "    }\n",
       "\n",
       "    .dataframe thead th {\n",
       "        text-align: right;\n",
       "    }\n",
       "</style>\n",
       "<table border=\"1\" class=\"dataframe\">\n",
       "  <thead>\n",
       "    <tr style=\"text-align: right;\">\n",
       "      <th></th>\n",
       "      <th>Feature0</th>\n",
       "      <th>Feature1</th>\n",
       "      <th>Feature2</th>\n",
       "      <th>Feature3</th>\n",
       "      <th>Feature4</th>\n",
       "      <th>Feature5</th>\n",
       "      <th>Feature6</th>\n",
       "      <th>Feature7</th>\n",
       "      <th>Feature8</th>\n",
       "      <th>Feature9</th>\n",
       "      <th>Feature10</th>\n",
       "      <th>Feature11</th>\n",
       "      <th>Feature12</th>\n",
       "      <th>Feature13</th>\n",
       "      <th>Feature14</th>\n",
       "    </tr>\n",
       "  </thead>\n",
       "  <tbody>\n",
       "    <tr>\n",
       "      <th>0</th>\n",
       "      <td>-0.031489</td>\n",
       "      <td>-0.003323</td>\n",
       "      <td>-0.071238</td>\n",
       "      <td>0.047743</td>\n",
       "      <td>0.060798</td>\n",
       "      <td>0.046597</td>\n",
       "      <td>-0.069530</td>\n",
       "      <td>-0.000031</td>\n",
       "      <td>-0.037924</td>\n",
       "      <td>2.405918e-02</td>\n",
       "      <td>-0.015085</td>\n",
       "      <td>-0.007752</td>\n",
       "      <td>-0.021617</td>\n",
       "      <td>-0.025395</td>\n",
       "      <td>0.046050</td>\n",
       "    </tr>\n",
       "    <tr>\n",
       "      <th>1</th>\n",
       "      <td>-0.122601</td>\n",
       "      <td>0.114176</td>\n",
       "      <td>0.460451</td>\n",
       "      <td>0.000953</td>\n",
       "      <td>0.014707</td>\n",
       "      <td>0.007610</td>\n",
       "      <td>-0.011173</td>\n",
       "      <td>-0.052478</td>\n",
       "      <td>0.040209</td>\n",
       "      <td>7.551698e-05</td>\n",
       "      <td>0.010306</td>\n",
       "      <td>0.023397</td>\n",
       "      <td>-0.007294</td>\n",
       "      <td>0.063543</td>\n",
       "      <td>0.081119</td>\n",
       "    </tr>\n",
       "    <tr>\n",
       "      <th>2</th>\n",
       "      <td>-0.076681</td>\n",
       "      <td>-0.084330</td>\n",
       "      <td>-0.054658</td>\n",
       "      <td>-0.048236</td>\n",
       "      <td>-0.019999</td>\n",
       "      <td>-0.045909</td>\n",
       "      <td>-0.004712</td>\n",
       "      <td>-0.001524</td>\n",
       "      <td>0.013735</td>\n",
       "      <td>-2.242872e-02</td>\n",
       "      <td>0.010273</td>\n",
       "      <td>-0.007458</td>\n",
       "      <td>-0.044340</td>\n",
       "      <td>-0.051093</td>\n",
       "      <td>0.025553</td>\n",
       "    </tr>\n",
       "    <tr>\n",
       "      <th>3</th>\n",
       "      <td>-0.075948</td>\n",
       "      <td>-0.059706</td>\n",
       "      <td>-0.025301</td>\n",
       "      <td>-0.037603</td>\n",
       "      <td>-0.001208</td>\n",
       "      <td>-0.030660</td>\n",
       "      <td>0.018873</td>\n",
       "      <td>-0.013434</td>\n",
       "      <td>-0.014981</td>\n",
       "      <td>7.414826e-04</td>\n",
       "      <td>0.005653</td>\n",
       "      <td>0.032153</td>\n",
       "      <td>0.001884</td>\n",
       "      <td>-0.018005</td>\n",
       "      <td>-0.011060</td>\n",
       "    </tr>\n",
       "    <tr>\n",
       "      <th>4</th>\n",
       "      <td>-0.054680</td>\n",
       "      <td>0.033033</td>\n",
       "      <td>-0.090885</td>\n",
       "      <td>-0.047280</td>\n",
       "      <td>-0.029304</td>\n",
       "      <td>0.085893</td>\n",
       "      <td>-0.105351</td>\n",
       "      <td>-0.053915</td>\n",
       "      <td>-0.006857</td>\n",
       "      <td>2.167316e-02</td>\n",
       "      <td>0.056718</td>\n",
       "      <td>0.006140</td>\n",
       "      <td>0.042217</td>\n",
       "      <td>0.018862</td>\n",
       "      <td>-0.007373</td>\n",
       "    </tr>\n",
       "    <tr>\n",
       "      <th>...</th>\n",
       "      <td>...</td>\n",
       "      <td>...</td>\n",
       "      <td>...</td>\n",
       "      <td>...</td>\n",
       "      <td>...</td>\n",
       "      <td>...</td>\n",
       "      <td>...</td>\n",
       "      <td>...</td>\n",
       "      <td>...</td>\n",
       "      <td>...</td>\n",
       "      <td>...</td>\n",
       "      <td>...</td>\n",
       "      <td>...</td>\n",
       "      <td>...</td>\n",
       "      <td>...</td>\n",
       "    </tr>\n",
       "    <tr>\n",
       "      <th>5166</th>\n",
       "      <td>-0.031692</td>\n",
       "      <td>0.148241</td>\n",
       "      <td>0.188167</td>\n",
       "      <td>0.042586</td>\n",
       "      <td>-0.065395</td>\n",
       "      <td>-0.032191</td>\n",
       "      <td>-0.040826</td>\n",
       "      <td>0.330095</td>\n",
       "      <td>0.014898</td>\n",
       "      <td>8.012419e-02</td>\n",
       "      <td>-0.116618</td>\n",
       "      <td>-0.010719</td>\n",
       "      <td>-0.012583</td>\n",
       "      <td>-0.057367</td>\n",
       "      <td>-0.057513</td>\n",
       "    </tr>\n",
       "    <tr>\n",
       "      <th>5167</th>\n",
       "      <td>-0.046865</td>\n",
       "      <td>0.083900</td>\n",
       "      <td>-0.059857</td>\n",
       "      <td>0.152789</td>\n",
       "      <td>0.005191</td>\n",
       "      <td>0.114154</td>\n",
       "      <td>0.418390</td>\n",
       "      <td>0.158786</td>\n",
       "      <td>0.071113</td>\n",
       "      <td>4.309074e-01</td>\n",
       "      <td>0.547246</td>\n",
       "      <td>0.002169</td>\n",
       "      <td>-0.153765</td>\n",
       "      <td>0.012520</td>\n",
       "      <td>0.003188</td>\n",
       "    </tr>\n",
       "    <tr>\n",
       "      <th>5168</th>\n",
       "      <td>-0.086257</td>\n",
       "      <td>-0.025376</td>\n",
       "      <td>-0.112771</td>\n",
       "      <td>0.301561</td>\n",
       "      <td>0.754613</td>\n",
       "      <td>-0.202125</td>\n",
       "      <td>-0.184104</td>\n",
       "      <td>0.030056</td>\n",
       "      <td>-0.001334</td>\n",
       "      <td>2.672995e-02</td>\n",
       "      <td>0.028471</td>\n",
       "      <td>-0.003212</td>\n",
       "      <td>0.046831</td>\n",
       "      <td>-0.021603</td>\n",
       "      <td>-0.025126</td>\n",
       "    </tr>\n",
       "    <tr>\n",
       "      <th>5169</th>\n",
       "      <td>-0.054057</td>\n",
       "      <td>-0.029265</td>\n",
       "      <td>0.027334</td>\n",
       "      <td>-0.036550</td>\n",
       "      <td>0.030322</td>\n",
       "      <td>-0.010576</td>\n",
       "      <td>-0.003889</td>\n",
       "      <td>0.030068</td>\n",
       "      <td>-0.039968</td>\n",
       "      <td>-1.912216e-02</td>\n",
       "      <td>0.016187</td>\n",
       "      <td>0.008314</td>\n",
       "      <td>-0.036538</td>\n",
       "      <td>-0.017858</td>\n",
       "      <td>0.001310</td>\n",
       "    </tr>\n",
       "    <tr>\n",
       "      <th>5170</th>\n",
       "      <td>-0.081840</td>\n",
       "      <td>-0.083789</td>\n",
       "      <td>-0.048493</td>\n",
       "      <td>-0.056505</td>\n",
       "      <td>-0.018306</td>\n",
       "      <td>-0.049036</td>\n",
       "      <td>0.024980</td>\n",
       "      <td>-0.012626</td>\n",
       "      <td>0.005694</td>\n",
       "      <td>-3.810829e-07</td>\n",
       "      <td>-0.014166</td>\n",
       "      <td>-0.041008</td>\n",
       "      <td>-0.021019</td>\n",
       "      <td>0.001986</td>\n",
       "      <td>0.003313</td>\n",
       "    </tr>\n",
       "  </tbody>\n",
       "</table>\n",
       "<p>5171 rows × 15 columns</p>\n",
       "</div>"
      ],
      "text/plain": [
       "      Feature0  Feature1  Feature2  Feature3  Feature4  Feature5  Feature6  \\\n",
       "0    -0.031489 -0.003323 -0.071238  0.047743  0.060798  0.046597 -0.069530   \n",
       "1    -0.122601  0.114176  0.460451  0.000953  0.014707  0.007610 -0.011173   \n",
       "2    -0.076681 -0.084330 -0.054658 -0.048236 -0.019999 -0.045909 -0.004712   \n",
       "3    -0.075948 -0.059706 -0.025301 -0.037603 -0.001208 -0.030660  0.018873   \n",
       "4    -0.054680  0.033033 -0.090885 -0.047280 -0.029304  0.085893 -0.105351   \n",
       "...        ...       ...       ...       ...       ...       ...       ...   \n",
       "5166 -0.031692  0.148241  0.188167  0.042586 -0.065395 -0.032191 -0.040826   \n",
       "5167 -0.046865  0.083900 -0.059857  0.152789  0.005191  0.114154  0.418390   \n",
       "5168 -0.086257 -0.025376 -0.112771  0.301561  0.754613 -0.202125 -0.184104   \n",
       "5169 -0.054057 -0.029265  0.027334 -0.036550  0.030322 -0.010576 -0.003889   \n",
       "5170 -0.081840 -0.083789 -0.048493 -0.056505 -0.018306 -0.049036  0.024980   \n",
       "\n",
       "      Feature7  Feature8      Feature9  Feature10  Feature11  Feature12  \\\n",
       "0    -0.000031 -0.037924  2.405918e-02  -0.015085  -0.007752  -0.021617   \n",
       "1    -0.052478  0.040209  7.551698e-05   0.010306   0.023397  -0.007294   \n",
       "2    -0.001524  0.013735 -2.242872e-02   0.010273  -0.007458  -0.044340   \n",
       "3    -0.013434 -0.014981  7.414826e-04   0.005653   0.032153   0.001884   \n",
       "4    -0.053915 -0.006857  2.167316e-02   0.056718   0.006140   0.042217   \n",
       "...        ...       ...           ...        ...        ...        ...   \n",
       "5166  0.330095  0.014898  8.012419e-02  -0.116618  -0.010719  -0.012583   \n",
       "5167  0.158786  0.071113  4.309074e-01   0.547246   0.002169  -0.153765   \n",
       "5168  0.030056 -0.001334  2.672995e-02   0.028471  -0.003212   0.046831   \n",
       "5169  0.030068 -0.039968 -1.912216e-02   0.016187   0.008314  -0.036538   \n",
       "5170 -0.012626  0.005694 -3.810829e-07  -0.014166  -0.041008  -0.021019   \n",
       "\n",
       "      Feature13  Feature14  \n",
       "0     -0.025395   0.046050  \n",
       "1      0.063543   0.081119  \n",
       "2     -0.051093   0.025553  \n",
       "3     -0.018005  -0.011060  \n",
       "4      0.018862  -0.007373  \n",
       "...         ...        ...  \n",
       "5166  -0.057367  -0.057513  \n",
       "5167   0.012520   0.003188  \n",
       "5168  -0.021603  -0.025126  \n",
       "5169  -0.017858   0.001310  \n",
       "5170   0.001986   0.003313  \n",
       "\n",
       "[5171 rows x 15 columns]"
      ]
     },
     "execution_count": 8,
     "metadata": {},
     "output_type": "execute_result"
    }
   ],
   "source": [
    "X = df.drop(['label_num'], axis=1)\n",
    "X"
   ]
  },
  {
   "cell_type": "code",
   "execution_count": 9,
   "id": "8c7106e0-6fd7-4b9e-8699-b86379ca6b29",
   "metadata": {},
   "outputs": [
    {
     "data": {
      "text/plain": [
       "0    0\n",
       "1    0\n",
       "2    0\n",
       "3    1\n",
       "4    0\n",
       "Name: label_num, dtype: int64"
      ]
     },
     "execution_count": 9,
     "metadata": {},
     "output_type": "execute_result"
    }
   ],
   "source": [
    "y = df['label_num']\n",
    "y.head()"
   ]
  },
  {
   "cell_type": "code",
   "execution_count": 24,
   "id": "042e977d-7107-42ce-b09d-4e09fa35ddb8",
   "metadata": {},
   "outputs": [
    {
     "data": {
      "image/png": "[encoded data removed]",
      "text/plain": [
       "<Figure size 640x480 with 1 Axes>"
      ]
     },
     "metadata": {},
     "output_type": "display_data"
    }
   ],
   "source": [
    "sns.countplot(x ='label_num', data = df)\n",
    "plt.show()"
   ]
  },
  {
   "cell_type": "code",
   "execution_count": 10,
   "id": "b5e87657-59ef-4729-9bfc-5ec1ba93324f",
   "metadata": {},
   "outputs": [],
   "source": [
    "from sklearn.model_selection import train_test_split"
   ]
  },
  {
   "cell_type": "code",
   "execution_count": 11,
   "id": "64ce4724-d2b8-4b24-9b93-fd46cb09d8f2",
   "metadata": {},
   "outputs": [],
   "source": [
    "X_train, X_test, y_train, y_test = train_test_split(X,y, test_size = 0.2, random_state = 0)"
   ]
  },
  {
   "cell_type": "code",
   "execution_count": 12,
   "id": "51644cdd-0dc2-4117-a32f-264df2c86d04",
   "metadata": {},
   "outputs": [
    {
     "data": {
      "text/plain": [
       "((4136, 15), (4136,))"
      ]
     },
     "execution_count": 12,
     "metadata": {},
     "output_type": "execute_result"
    }
   ],
   "source": [
    "X_train.shape, y_train.shape"
   ]
  },
  {
   "cell_type": "code",
   "execution_count": 13,
   "id": "1be90eeb-9e08-453d-9df4-7334506d3246",
   "metadata": {},
   "outputs": [
    {
     "data": {
      "text/plain": [
       "((1035, 15), (1035,))"
      ]
     },
     "execution_count": 13,
     "metadata": {},
     "output_type": "execute_result"
    }
   ],
   "source": [
    "X_test.shape, y_test.shape"
   ]
  },
  {
   "cell_type": "code",
   "execution_count": 14,
   "id": "c2188e8c-56b4-4086-9309-128329b1574f",
   "metadata": {},
   "outputs": [],
   "source": [
    "from sklearn.linear_model import LogisticRegression"
   ]
  },
  {
   "cell_type": "code",
   "execution_count": 15,
   "id": "eae69909-983c-4c64-8bd7-4bc08e3f50a3",
   "metadata": {},
   "outputs": [
    {
     "data": {
      "text/html": [
       "<style>#sk-container-id-1 {\n",
       "  /* Definition of color scheme common for light and dark mode */\n",
       "  --sklearn-color-text: black;\n",
       "  --sklearn-color-line: gray;\n",
       "  /* Definition of color scheme for unfitted estimators */\n",
       "  --sklearn-color-unfitted-level-0: #fff5e6;\n",
       "  --sklearn-color-unfitted-level-1: #f6e4d2;\n",
       "  --sklearn-color-unfitted-level-2: #ffe0b3;\n",
       "  --sklearn-color-unfitted-level-3: chocolate;\n",
       "  /* Definition of color scheme for fitted estimators */\n",
       "  --sklearn-color-fitted-level-0: #f0f8ff;\n",
       "  --sklearn-color-fitted-level-1: #d4ebff;\n",
       "  --sklearn-color-fitted-level-2: #b3dbfd;\n",
       "  --sklearn-color-fitted-level-3: cornflowerblue;\n",
       "\n",
       "  /* Specific color for light theme */\n",
       "  --sklearn-color-text-on-default-background: var(--sg-text-color, var(--theme-code-foreground, var(--jp-content-font-color1, black)));\n",
       "  --sklearn-color-background: var(--sg-background-color, var(--theme-background, var(--jp-layout-color0, white)));\n",
       "  --sklearn-color-border-box: var(--sg-text-color, var(--theme-code-foreground, var(--jp-content-font-color1, black)));\n",
       "  --sklearn-color-icon: #696969;\n",
       "\n",
       "  @media (prefers-color-scheme: dark) {\n",
       "    /* Redefinition of color scheme for dark theme */\n",
       "    --sklearn-color-text-on-default-background: var(--sg-text-color, var(--theme-code-foreground, var(--jp-content-font-color1, white)));\n",
       "    --sklearn-color-background: var(--sg-background-color, var(--theme-background, var(--jp-layout-color0, #111)));\n",
       "    --sklearn-color-border-box: var(--sg-text-color, var(--theme-code-foreground, var(--jp-content-font-color1, white)));\n",
       "    --sklearn-color-icon: #878787;\n",
       "  }\n",
       "}\n",
       "\n",
       "#sk-container-id-1 {\n",
       "  color: var(--sklearn-color-text);\n",
       "}\n",
       "\n",
       "#sk-container-id-1 pre {\n",
       "  padding: 0;\n",
       "}\n",
       "\n",
       "#sk-container-id-1 input.sk-hidden--visually {\n",
       "  border: 0;\n",
       "  clip: rect(1px 1px 1px 1px);\n",
       "  clip: rect(1px, 1px, 1px, 1px);\n",
       "  height: 1px;\n",
       "  margin: -1px;\n",
       "  overflow: hidden;\n",
       "  padding: 0;\n",
       "  position: absolute;\n",
       "  width: 1px;\n",
       "}\n",
       "\n",
       "#sk-container-id-1 div.sk-dashed-wrapped {\n",
       "  border: 1px dashed var(--sklearn-color-line);\n",
       "  margin: 0 0.4em 0.5em 0.4em;\n",
       "  box-sizing: border-box;\n",
       "  padding-bottom: 0.4em;\n",
       "  background-color: var(--sklearn-color-background);\n",
       "}\n",
       "\n",
       "#sk-container-id-1 div.sk-container {\n",
       "  /* jupyter's `normalize.less` sets `[hidden] { display: none; }`\n",
       "     but bootstrap.min.css set `[hidden] { display: none !important; }`\n",
       "     so we also need the `!important` here to be able to override the\n",
       "     default hidden behavior on the sphinx rendered scikit-learn.org.\n",
       "     See: https://github.com/scikit-learn/scikit-learn/issues/21755 */\n",
       "  display: inline-block !important;\n",
       "  position: relative;\n",
       "}\n",
       "\n",
       "#sk-container-id-1 div.sk-text-repr-fallback {\n",
       "  display: none;\n",
       "}\n",
       "\n",
       "div.sk-parallel-item,\n",
       "div.sk-serial,\n",
       "div.sk-item {\n",
       "  /* draw centered vertical line to link estimators */\n",
       "  background-image: linear-gradient(var(--sklearn-color-text-on-default-background), var(--sklearn-color-text-on-default-background));\n",
       "  background-size: 2px 100%;\n",
       "  background-repeat: no-repeat;\n",
       "  background-position: center center;\n",
       "}\n",
       "\n",
       "/* Parallel-specific style estimator block */\n",
       "\n",
       "#sk-container-id-1 div.sk-parallel-item::after {\n",
       "  content: \"\";\n",
       "  width: 100%;\n",
       "  border-bottom: 2px solid var(--sklearn-color-text-on-default-background);\n",
       "  flex-grow: 1;\n",
       "}\n",
       "\n",
       "#sk-container-id-1 div.sk-parallel {\n",
       "  display: flex;\n",
       "  align-items: stretch;\n",
       "  justify-content: center;\n",
       "  background-color: var(--sklearn-color-background);\n",
       "  position: relative;\n",
       "}\n",
       "\n",
       "#sk-container-id-1 div.sk-parallel-item {\n",
       "  display: flex;\n",
       "  flex-direction: column;\n",
       "}\n",
       "\n",
       "#sk-container-id-1 div.sk-parallel-item:first-child::after {\n",
       "  align-self: flex-end;\n",
       "  width: 50%;\n",
       "}\n",
       "\n",
       "#sk-container-id-1 div.sk-parallel-item:last-child::after {\n",
       "  align-self: flex-start;\n",
       "  width: 50%;\n",
       "}\n",
       "\n",
       "#sk-container-id-1 div.sk-parallel-item:only-child::after {\n",
       "  width: 0;\n",
       "}\n",
       "\n",
       "/* Serial-specific style estimator block */\n",
       "\n",
       "#sk-container-id-1 div.sk-serial {\n",
       "  display: flex;\n",
       "  flex-direction: column;\n",
       "  align-items: center;\n",
       "  background-color: var(--sklearn-color-background);\n",
       "  padding-right: 1em;\n",
       "  padding-left: 1em;\n",
       "}\n",
       "\n",
       "\n",
       "/* Toggleable style: style used for estimator/Pipeline/ColumnTransformer box that is\n",
       "clickable and can be expanded/collapsed.\n",
       "- Pipeline and ColumnTransformer use this feature and define the default style\n",
       "- Estimators will overwrite some part of the style using the `sk-estimator` class\n",
       "*/\n",
       "\n",
       "/* Pipeline and ColumnTransformer style (default) */\n",
       "\n",
       "#sk-container-id-1 div.sk-toggleable {\n",
       "  /* Default theme specific background. It is overwritten whether we have a\n",
       "  specific estimator or a Pipeline/ColumnTransformer */\n",
       "  background-color: var(--sklearn-color-background);\n",
       "}\n",
       "\n",
       "/* Toggleable label */\n",
       "#sk-container-id-1 label.sk-toggleable__label {\n",
       "  cursor: pointer;\n",
       "  display: block;\n",
       "  width: 100%;\n",
       "  margin-bottom: 0;\n",
       "  padding: 0.5em;\n",
       "  box-sizing: border-box;\n",
       "  text-align: center;\n",
       "}\n",
       "\n",
       "#sk-container-id-1 label.sk-toggleable__label-arrow:before {\n",
       "  /* Arrow on the left of the label */\n",
       "  content: \"▸\";\n",
       "  float: left;\n",
       "  margin-right: 0.25em;\n",
       "  color: var(--sklearn-color-icon);\n",
       "}\n",
       "\n",
       "#sk-container-id-1 label.sk-toggleable__label-arrow:hover:before {\n",
       "  color: var(--sklearn-color-text);\n",
       "}\n",
       "\n",
       "/* Toggleable content - dropdown */\n",
       "\n",
       "#sk-container-id-1 div.sk-toggleable__content {\n",
       "  max-height: 0;\n",
       "  max-width: 0;\n",
       "  overflow: hidden;\n",
       "  text-align: left;\n",
       "  /* unfitted */\n",
       "  background-color: var(--sklearn-color-unfitted-level-0);\n",
       "}\n",
       "\n",
       "#sk-container-id-1 div.sk-toggleable__content.fitted {\n",
       "  /* fitted */\n",
       "  background-color: var(--sklearn-color-fitted-level-0);\n",
       "}\n",
       "\n",
       "#sk-container-id-1 div.sk-toggleable__content pre {\n",
       "  margin: 0.2em;\n",
       "  border-radius: 0.25em;\n",
       "  color: var(--sklearn-color-text);\n",
       "  /* unfitted */\n",
       "  background-color: var(--sklearn-color-unfitted-level-0);\n",
       "}\n",
       "\n",
       "#sk-container-id-1 div.sk-toggleable__content.fitted pre {\n",
       "  /* unfitted */\n",
       "  background-color: var(--sklearn-color-fitted-level-0);\n",
       "}\n",
       "\n",
       "#sk-container-id-1 input.sk-toggleable__control:checked~div.sk-toggleable__content {\n",
       "  /* Expand drop-down */\n",
       "  max-height: 200px;\n",
       "  max-width: 100%;\n",
       "  overflow: auto;\n",
       "}\n",
       "\n",
       "#sk-container-id-1 input.sk-toggleable__control:checked~label.sk-toggleable__label-arrow:before {\n",
       "  content: \"▾\";\n",
       "}\n",
       "\n",
       "/* Pipeline/ColumnTransformer-specific style */\n",
       "\n",
       "#sk-container-id-1 div.sk-label input.sk-toggleable__control:checked~label.sk-toggleable__label {\n",
       "  color: var(--sklearn-color-text);\n",
       "  background-color: var(--sklearn-color-unfitted-level-2);\n",
       "}\n",
       "\n",
       "#sk-container-id-1 div.sk-label.fitted input.sk-toggleable__control:checked~label.sk-toggleable__label {\n",
       "  background-color: var(--sklearn-color-fitted-level-2);\n",
       "}\n",
       "\n",
       "/* Estimator-specific style */\n",
       "\n",
       "/* Colorize estimator box */\n",
       "#sk-container-id-1 div.sk-estimator input.sk-toggleable__control:checked~label.sk-toggleable__label {\n",
       "  /* unfitted */\n",
       "  background-color: var(--sklearn-color-unfitted-level-2);\n",
       "}\n",
       "\n",
       "#sk-container-id-1 div.sk-estimator.fitted input.sk-toggleable__control:checked~label.sk-toggleable__label {\n",
       "  /* fitted */\n",
       "  background-color: var(--sklearn-color-fitted-level-2);\n",
       "}\n",
       "\n",
       "#sk-container-id-1 div.sk-label label.sk-toggleable__label,\n",
       "#sk-container-id-1 div.sk-label label {\n",
       "  /* The background is the default theme color */\n",
       "  color: var(--sklearn-color-text-on-default-background);\n",
       "}\n",
       "\n",
       "/* On hover, darken the color of the background */\n",
       "#sk-container-id-1 div.sk-label:hover label.sk-toggleable__label {\n",
       "  color: var(--sklearn-color-text);\n",
       "  background-color: var(--sklearn-color-unfitted-level-2);\n",
       "}\n",
       "\n",
       "/* Label box, darken color on hover, fitted */\n",
       "#sk-container-id-1 div.sk-label.fitted:hover label.sk-toggleable__label.fitted {\n",
       "  color: var(--sklearn-color-text);\n",
       "  background-color: var(--sklearn-color-fitted-level-2);\n",
       "}\n",
       "\n",
       "/* Estimator label */\n",
       "\n",
       "#sk-container-id-1 div.sk-label label {\n",
       "  font-family: monospace;\n",
       "  font-weight: bold;\n",
       "  display: inline-block;\n",
       "  line-height: 1.2em;\n",
       "}\n",
       "\n",
       "#sk-container-id-1 div.sk-label-container {\n",
       "  text-align: center;\n",
       "}\n",
       "\n",
       "/* Estimator-specific */\n",
       "#sk-container-id-1 div.sk-estimator {\n",
       "  font-family: monospace;\n",
       "  border: 1px dotted var(--sklearn-color-border-box);\n",
       "  border-radius: 0.25em;\n",
       "  box-sizing: border-box;\n",
       "  margin-bottom: 0.5em;\n",
       "  /* unfitted */\n",
       "  background-color: var(--sklearn-color-unfitted-level-0);\n",
       "}\n",
       "\n",
       "#sk-container-id-1 div.sk-estimator.fitted {\n",
       "  /* fitted */\n",
       "  background-color: var(--sklearn-color-fitted-level-0);\n",
       "}\n",
       "\n",
       "/* on hover */\n",
       "#sk-container-id-1 div.sk-estimator:hover {\n",
       "  /* unfitted */\n",
       "  background-color: var(--sklearn-color-unfitted-level-2);\n",
       "}\n",
       "\n",
       "#sk-container-id-1 div.sk-estimator.fitted:hover {\n",
       "  /* fitted */\n",
       "  background-color: var(--sklearn-color-fitted-level-2);\n",
       "}\n",
       "\n",
       "/* Specification for estimator info (e.g. \"i\" and \"?\") */\n",
       "\n",
       "/* Common style for \"i\" and \"?\" */\n",
       "\n",
       ".sk-estimator-doc-link,\n",
       "a:link.sk-estimator-doc-link,\n",
       "a:visited.sk-estimator-doc-link {\n",
       "  float: right;\n",
       "  font-size: smaller;\n",
       "  line-height: 1em;\n",
       "  font-family: monospace;\n",
       "  background-color: var(--sklearn-color-background);\n",
       "  border-radius: 1em;\n",
       "  height: 1em;\n",
       "  width: 1em;\n",
       "  text-decoration: none !important;\n",
       "  margin-left: 1ex;\n",
       "  /* unfitted */\n",
       "  border: var(--sklearn-color-unfitted-level-1) 1pt solid;\n",
       "  color: var(--sklearn-color-unfitted-level-1);\n",
       "}\n",
       "\n",
       ".sk-estimator-doc-link.fitted,\n",
       "a:link.sk-estimator-doc-link.fitted,\n",
       "a:visited.sk-estimator-doc-link.fitted {\n",
       "  /* fitted */\n",
       "  border: var(--sklearn-color-fitted-level-1) 1pt solid;\n",
       "  color: var(--sklearn-color-fitted-level-1);\n",
       "}\n",
       "\n",
       "/* On hover */\n",
       "div.sk-estimator:hover .sk-estimator-doc-link:hover,\n",
       ".sk-estimator-doc-link:hover,\n",
       "div.sk-label-container:hover .sk-estimator-doc-link:hover,\n",
       ".sk-estimator-doc-link:hover {\n",
       "  /* unfitted */\n",
       "  background-color: var(--sklearn-color-unfitted-level-3);\n",
       "  color: var(--sklearn-color-background);\n",
       "  text-decoration: none;\n",
       "}\n",
       "\n",
       "div.sk-estimator.fitted:hover .sk-estimator-doc-link.fitted:hover,\n",
       ".sk-estimator-doc-link.fitted:hover,\n",
       "div.sk-label-container:hover .sk-estimator-doc-link.fitted:hover,\n",
       ".sk-estimator-doc-link.fitted:hover {\n",
       "  /* fitted */\n",
       "  background-color: var(--sklearn-color-fitted-level-3);\n",
       "  color: var(--sklearn-color-background);\n",
       "  text-decoration: none;\n",
       "}\n",
       "\n",
       "/* Span, style for the box shown on hovering the info icon */\n",
       ".sk-estimator-doc-link span {\n",
       "  display: none;\n",
       "  z-index: 9999;\n",
       "  position: relative;\n",
       "  font-weight: normal;\n",
       "  right: .2ex;\n",
       "  padding: .5ex;\n",
       "  margin: .5ex;\n",
       "  width: min-content;\n",
       "  min-width: 20ex;\n",
       "  max-width: 50ex;\n",
       "  color: var(--sklearn-color-text);\n",
       "  box-shadow: 2pt 2pt 4pt #999;\n",
       "  /* unfitted */\n",
       "  background: var(--sklearn-color-unfitted-level-0);\n",
       "  border: .5pt solid var(--sklearn-color-unfitted-level-3);\n",
       "}\n",
       "\n",
       ".sk-estimator-doc-link.fitted span {\n",
       "  /* fitted */\n",
       "  background: var(--sklearn-color-fitted-level-0);\n",
       "  border: var(--sklearn-color-fitted-level-3);\n",
       "}\n",
       "\n",
       ".sk-estimator-doc-link:hover span {\n",
       "  display: block;\n",
       "}\n",
       "\n",
       "/* \"?\"-specific style due to the `<a>` HTML tag */\n",
       "\n",
       "#sk-container-id-1 a.estimator_doc_link {\n",
       "  float: right;\n",
       "  font-size: 1rem;\n",
       "  line-height: 1em;\n",
       "  font-family: monospace;\n",
       "  background-color: var(--sklearn-color-background);\n",
       "  border-radius: 1rem;\n",
       "  height: 1rem;\n",
       "  width: 1rem;\n",
       "  text-decoration: none;\n",
       "  /* unfitted */\n",
       "  color: var(--sklearn-color-unfitted-level-1);\n",
       "  border: var(--sklearn-color-unfitted-level-1) 1pt solid;\n",
       "}\n",
       "\n",
       "#sk-container-id-1 a.estimator_doc_link.fitted {\n",
       "  /* fitted */\n",
       "  border: var(--sklearn-color-fitted-level-1) 1pt solid;\n",
       "  color: var(--sklearn-color-fitted-level-1);\n",
       "}\n",
       "\n",
       "/* On hover */\n",
       "#sk-container-id-1 a.estimator_doc_link:hover {\n",
       "  /* unfitted */\n",
       "  background-color: var(--sklearn-color-unfitted-level-3);\n",
       "  color: var(--sklearn-color-background);\n",
       "  text-decoration: none;\n",
       "}\n",
       "\n",
       "#sk-container-id-1 a.estimator_doc_link.fitted:hover {\n",
       "  /* fitted */\n",
       "  background-color: var(--sklearn-color-fitted-level-3);\n",
       "}\n",
       "</style><div id=\"sk-container-id-1\" class=\"sk-top-container\"><div class=\"sk-text-repr-fallback\"><pre>LogisticRegression()</pre><b>In a Jupyter environment, please rerun this cell to show the HTML representation or trust the notebook. <br />On GitHub, the HTML representation is unable to render, please try loading this page with nbviewer.org.</b></div><div class=\"sk-container\" hidden><div class=\"sk-item\"><div class=\"sk-estimator fitted sk-toggleable\"><input class=\"sk-toggleable__control sk-hidden--visually\" id=\"sk-estimator-id-1\" type=\"checkbox\" checked><label for=\"sk-estimator-id-1\" class=\"sk-toggleable__label fitted sk-toggleable__label-arrow fitted\">&nbsp;&nbsp;LogisticRegression<a class=\"sk-estimator-doc-link fitted\" rel=\"noreferrer\" target=\"_blank\" href=\"https://scikit-learn.org/1.5/modules/generated/sklearn.linear_model.LogisticRegression.html\">?<span>Documentation for LogisticRegression</span></a><span class=\"sk-estimator-doc-link fitted\">i<span>Fitted</span></span></label><div class=\"sk-toggleable__content fitted\"><pre>LogisticRegression()</pre></div> </div></div></div></div>"
      ],
      "text/plain": [
       "LogisticRegression()"
      ]
     },
     "execution_count": 15,
     "metadata": {},
     "output_type": "execute_result"
    }
   ],
   "source": [
    "model = LogisticRegression()\n",
    "model.fit(X_train, y_train)"
   ]
  },
  {
   "cell_type": "code",
   "execution_count": 17,
   "id": "3e13e658-5773-4670-a2fb-b40fe1ecfd33",
   "metadata": {},
   "outputs": [],
   "source": [
    "y_pred = model.predict(X_train)"
   ]
  },
  {
   "cell_type": "code",
   "execution_count": 18,
   "id": "36e773cc-1eaa-49e9-956d-dfe7a66db51a",
   "metadata": {},
   "outputs": [],
   "source": [
    "y_test_pred = model.predict(X_test)"
   ]
  },
  {
   "cell_type": "code",
   "execution_count": 25,
   "id": "9718b3a9-218e-48d7-bcb8-234f69bd23e1",
   "metadata": {},
   "outputs": [
    {
     "data": {
      "text/plain": [
       "0.9327852998065764"
      ]
     },
     "execution_count": 25,
     "metadata": {},
     "output_type": "execute_result"
    }
   ],
   "source": [
    "model.score(X_train, y_train)"
   ]
  },
  {
   "cell_type": "code",
   "execution_count": 26,
   "id": "ecebc57b-418f-434c-9a09-033f26d9695c",
   "metadata": {},
   "outputs": [
    {
     "data": {
      "text/plain": [
       "0.923671497584541"
      ]
     },
     "execution_count": 26,
     "metadata": {},
     "output_type": "execute_result"
    }
   ],
   "source": [
    "model.score(X_test, y_test)"
   ]
  },
  {
   "cell_type": "markdown",
   "id": "831b52f6-6081-4341-9dc7-b9127a9e0731",
   "metadata": {},
   "source": [
    "# CONFUSION MATRIX:-"
   ]
  },
  {
   "cell_type": "code",
   "execution_count": 57,
   "id": "686dafbc-bd83-4696-98db-31f329d56615",
   "metadata": {},
   "outputs": [],
   "source": [
    "from sklearn.metrics import confusion_matrix, ConfusionMatrixDisplay"
   ]
  },
  {
   "cell_type": "code",
   "execution_count": 58,
   "id": "679e21d4-468a-4a6f-b7ff-5dcc67c09b9a",
   "metadata": {},
   "outputs": [
    {
     "data": {
      "text/plain": [
       "array([[674,  58],\n",
       "       [ 21, 282]])"
      ]
     },
     "execution_count": 58,
     "metadata": {},
     "output_type": "execute_result"
    }
   ],
   "source": [
    "conf_mat = confusion_matrix(y_test, y_test_pred)\n",
    "conf_mat"
   ]
  },
  {
   "cell_type": "code",
   "execution_count": 59,
   "id": "e16d5678-2e8b-412e-af7e-9d111060b085",
   "metadata": {},
   "outputs": [
    {
     "data": {
      "image/png": "[encoded data removed]",
      "text/plain": [
       "<Figure size 640x480 with 2 Axes>"
      ]
     },
     "metadata": {},
     "output_type": "display_data"
    }
   ],
   "source": [
    "ConfusionMatrixDisplay(conf_met).plot()\n",
    "plt.show()"
   ]
  },
  {
   "cell_type": "markdown",
   "id": "6c4d0004-4330-41e1-b7ab-c10fba59422a",
   "metadata": {},
   "source": [
    "### PRECISION AND RECALL:-"
   ]
  },
  {
   "cell_type": "markdown",
   "id": "02c340e1-4349-45d9-9a1c-7433ff19a783",
   "metadata": {},
   "source": [
    "SCRATCH IMPLEMENTATION:-"
   ]
  },
  {
   "cell_type": "code",
   "execution_count": 60,
   "id": "b5779045-78ff-4629-be19-e6a2d948bc80",
   "metadata": {},
   "outputs": [],
   "source": [
    "def precision_calc(conf):\n",
    "    tp = conf[1,1]\n",
    "    fp = conf[0,1]\n",
    "\n",
    "    return tp/(tp+fp)"
   ]
  },
  {
   "cell_type": "code",
   "execution_count": 61,
   "id": "d0ff37bd-ab25-44e2-84e0-fd4b5c4da3bc",
   "metadata": {},
   "outputs": [
    {
     "data": {
      "text/plain": [
       "np.float64(0.8294117647058824)"
      ]
     },
     "execution_count": 61,
     "metadata": {},
     "output_type": "execute_result"
    }
   ],
   "source": [
    "precision_calc(conf_mat)"
   ]
  },
  {
   "cell_type": "code",
   "execution_count": 62,
   "id": "654e71cb-1c41-4a58-910d-81bbaf28319b",
   "metadata": {},
   "outputs": [],
   "source": [
    "def recall_calc(conf):\n",
    "    tp = conf[1,1]\n",
    "    fn = conf[1,0]\n",
    "\n",
    "    return tp/(tp+fn)"
   ]
  },
  {
   "cell_type": "code",
   "execution_count": 63,
   "id": "1bb4327f-13ad-447a-9e87-92f20273dd0e",
   "metadata": {},
   "outputs": [
    {
     "data": {
      "text/plain": [
       "np.float64(0.9306930693069307)"
      ]
     },
     "execution_count": 63,
     "metadata": {},
     "output_type": "execute_result"
    }
   ],
   "source": [
    "recall_calc(conf_mat)"
   ]
  },
  {
   "cell_type": "markdown",
   "id": "125fe94d-0afd-4804-a1d8-3b3c0e0f7e02",
   "metadata": {},
   "source": [
    "USING SKLEARN:-"
   ]
  },
  {
   "cell_type": "code",
   "execution_count": 64,
   "id": "a4ca977f-7df3-48b7-a56e-5bc2095e79af",
   "metadata": {},
   "outputs": [],
   "source": [
    "from sklearn.metrics import precision_score, recall_score"
   ]
  },
  {
   "cell_type": "code",
   "execution_count": 65,
   "id": "384780e6-60a3-44b9-ade3-5338633955f2",
   "metadata": {},
   "outputs": [
    {
     "data": {
      "text/plain": [
       "np.float64(0.8294117647058824)"
      ]
     },
     "execution_count": 65,
     "metadata": {},
     "output_type": "execute_result"
    }
   ],
   "source": [
    "precision_score(y_test, y_test_pred)"
   ]
  },
  {
   "cell_type": "code",
   "execution_count": 66,
   "id": "ebeb835b-8baa-491e-9fe2-730f571a0845",
   "metadata": {},
   "outputs": [
    {
     "data": {
      "text/plain": [
       "np.float64(0.9306930693069307)"
      ]
     },
     "execution_count": 66,
     "metadata": {},
     "output_type": "execute_result"
    }
   ],
   "source": [
    "recall_score(y_test, y_test_pred)"
   ]
  },
  {
   "cell_type": "markdown",
   "id": "39cfc703-88ae-4d5a-9dc9-8071a3338f29",
   "metadata": {},
   "source": [
    "### F1 SCORE:-"
   ]
  },
  {
   "cell_type": "code",
   "execution_count": 67,
   "id": "ac0a2acb-c526-4b47-96c2-1861ed00a4ed",
   "metadata": {},
   "outputs": [
    {
     "data": {
      "text/plain": [
       "(np.float64(0.8294117647058824), np.float64(0.9306930693069307))"
      ]
     },
     "execution_count": 67,
     "metadata": {},
     "output_type": "execute_result"
    }
   ],
   "source": [
    "pre = precision_calc(conf_mat)\n",
    "re = recall_calc(conf_mat)\n",
    "pre, re"
   ]
  },
  {
   "cell_type": "code",
   "execution_count": 68,
   "id": "0cd27602-8437-4ddd-b1e0-b612006e13a8",
   "metadata": {},
   "outputs": [
    {
     "data": {
      "text/plain": [
       "np.float64(0.8771384136858477)"
      ]
     },
     "execution_count": 68,
     "metadata": {},
     "output_type": "execute_result"
    }
   ],
   "source": [
    "f1 = 2*(pre * re) / (pre + re)\n",
    "f1"
   ]
  },
  {
   "cell_type": "markdown",
   "id": "7dd76c54-5fc7-42db-be38-4c006f2d0cc6",
   "metadata": {},
   "source": [
    "USING SKLEARN:-"
   ]
  },
  {
   "cell_type": "code",
   "execution_count": 69,
   "id": "b7c00d5d-50e7-4cf5-894e-91b684cfb795",
   "metadata": {},
   "outputs": [],
   "source": [
    "from sklearn.metrics import f1_score"
   ]
  },
  {
   "cell_type": "code",
   "execution_count": 70,
   "id": "6e80050b-3263-466e-b0dc-8ba59f84cf62",
   "metadata": {},
   "outputs": [
    {
     "data": {
      "text/plain": [
       "np.float64(0.8771384136858476)"
      ]
     },
     "execution_count": 70,
     "metadata": {},
     "output_type": "execute_result"
    }
   ],
   "source": [
    "f1_score(y_test, y_test_pred)"
   ]
  },
  {
   "cell_type": "markdown",
   "id": "01bb77d5-7af6-4dd0-86f3-235a2dad30fd",
   "metadata": {},
   "source": [
    "# ROC CURVE, AUC:-"
   ]
  },
  {
   "cell_type": "code",
   "execution_count": 71,
   "id": "4def1956-5d0d-41c0-b3c1-13f3b7d53d5f",
   "metadata": {},
   "outputs": [],
   "source": [
    "from sklearn.metrics import roc_curve, roc_auc_score , auc"
   ]
  },
  {
   "cell_type": "code",
   "execution_count": 73,
   "id": "02dcee8e-01f6-47aa-b1eb-e515e11fb8d9",
   "metadata": {},
   "outputs": [
    {
     "data": {
      "text/plain": [
       "array([[0.67176997, 0.32823003],\n",
       "       [0.95810144, 0.04189856],\n",
       "       [0.94394003, 0.05605997],\n",
       "       ...,\n",
       "       [0.97650683, 0.02349317],\n",
       "       [0.46120165, 0.53879835],\n",
       "       [0.99657807, 0.00342193]])"
      ]
     },
     "execution_count": 73,
     "metadata": {},
     "output_type": "execute_result"
    }
   ],
   "source": [
    "probability = model.predict_proba(X_test)\n",
    "probability"
   ]
  },
  {
   "cell_type": "code",
   "execution_count": 74,
   "id": "7cecbba9-ecda-4b63-8f46-0007c2ef847f",
   "metadata": {},
   "outputs": [
    {
     "data": {
      "text/plain": [
       "array([0.32823003, 0.04189856, 0.05605997, ..., 0.02349317, 0.53879835,\n",
       "       0.00342193])"
      ]
     },
     "execution_count": 74,
     "metadata": {},
     "output_type": "execute_result"
    }
   ],
   "source": [
    "probabilities = probability[:, 1]\n",
    "probabilities"
   ]
  },
  {
   "cell_type": "code",
   "execution_count": 76,
   "id": "d60a9dff-ef98-4314-b498-265c9755bf30",
   "metadata": {},
   "outputs": [],
   "source": [
    "fpr, tpr, thr = roc_curve(y_test, probabilities)"
   ]
  },
  {
   "cell_type": "code",
   "execution_count": 77,
   "id": "b1348d3f-538b-4690-8fea-2990e9f9d00c",
   "metadata": {},
   "outputs": [
    {
     "name": "stdout",
     "output_type": "stream",
     "text": [
      "FPR:\n",
      " [0.         0.         0.         0.00136612 0.00136612 0.00273224\n",
      " 0.00273224 0.00409836 0.00409836 0.00546448 0.00546448 0.0068306\n",
      " 0.0068306  0.00819672 0.00819672 0.00956284 0.00956284 0.01092896\n",
      " 0.01092896 0.01229508 0.01229508 0.0136612  0.0136612  0.01502732\n",
      " 0.01502732 0.01639344 0.01639344 0.01775956 0.01775956 0.01775956\n",
      " 0.01775956 0.01912568 0.01912568 0.0204918  0.0204918  0.02185792\n",
      " 0.02185792 0.02322404 0.02322404 0.02459016 0.02459016 0.02595628\n",
      " 0.02595628 0.0273224  0.0273224  0.02868852 0.02868852 0.03005464\n",
      " 0.03005464 0.03142077 0.03142077 0.03278689 0.03278689 0.03415301\n",
      " 0.03415301 0.03551913 0.03551913 0.03688525 0.03688525 0.03825137\n",
      " 0.03825137 0.03825137 0.03961749 0.03961749 0.04098361 0.04098361\n",
      " 0.04234973 0.04234973 0.04644809 0.04644809 0.04781421 0.04781421\n",
      " 0.04918033 0.04918033 0.04918033 0.04918033 0.05191257 0.05191257\n",
      " 0.05464481 0.05464481 0.05601093 0.05601093 0.05737705 0.05737705\n",
      " 0.06010929 0.06010929 0.06147541 0.06147541 0.06420765 0.06420765\n",
      " 0.06693989 0.06693989 0.06830601 0.06830601 0.06967213 0.06967213\n",
      " 0.07513661 0.07513661 0.07650273 0.07650273 0.07923497 0.07923497\n",
      " 0.08469945 0.08469945 0.08879781 0.08879781 0.09289617 0.09289617\n",
      " 0.09836066 0.09836066 0.1010929  0.1010929  0.10382514 0.10655738\n",
      " 0.10655738 0.1079235  0.1079235  0.10928962 0.10928962 0.11202186\n",
      " 0.11202186 0.11338798 0.11338798 0.1147541  0.1147541  0.11748634\n",
      " 0.11748634 0.1215847  0.1215847  0.12704918 0.12704918 0.1284153\n",
      " 0.1284153  0.12978142 0.12978142 0.13251366 0.13251366 0.1352459\n",
      " 0.1352459  0.20491803 0.20765027 0.21174863 0.21174863 0.27595628\n",
      " 0.27868852 0.38114754 0.38387978 0.38661202 0.38934426 0.46994536\n",
      " 0.4726776  0.59153005 0.5942623  0.6489071  0.65163934 0.67486339\n",
      " 0.67759563 0.68306011 0.68579235 0.8579235  0.86065574 0.92213115\n",
      " 0.92486339 1.        ]\n",
      "\n",
      "\n",
      "\n",
      "TPR:\n",
      " [0.         0.00330033 0.08910891 0.08910891 0.10891089 0.10891089\n",
      " 0.11551155 0.11551155 0.13861386 0.13861386 0.15181518 0.15181518\n",
      " 0.16831683 0.16831683 0.18811881 0.18811881 0.20132013 0.20132013\n",
      " 0.24092409 0.24092409 0.2640264  0.2640264  0.27062706 0.27062706\n",
      " 0.27722772 0.27722772 0.31353135 0.31353135 0.33993399 0.34653465\n",
      " 0.35313531 0.35313531 0.37623762 0.37623762 0.4290429  0.4290429\n",
      " 0.43564356 0.43564356 0.48844884 0.48844884 0.49834983 0.49834983\n",
      " 0.51155116 0.51155116 0.52145215 0.52145215 0.52805281 0.52805281\n",
      " 0.55115512 0.55115512 0.56105611 0.56105611 0.57425743 0.57425743\n",
      " 0.59075908 0.59075908 0.6039604  0.6039604  0.62706271 0.62706271\n",
      " 0.66006601 0.66666667 0.66666667 0.67656766 0.67656766 0.67986799\n",
      " 0.67986799 0.71617162 0.71617162 0.73927393 0.73927393 0.76237624\n",
      " 0.76237624 0.78877888 0.8019802  0.81188119 0.81188119 0.81518152\n",
      " 0.81518152 0.81848185 0.81848185 0.82838284 0.82838284 0.85478548\n",
      " 0.85478548 0.87128713 0.87128713 0.87458746 0.87458746 0.88118812\n",
      " 0.88118812 0.88778878 0.88778878 0.89768977 0.89768977 0.90429043\n",
      " 0.90429043 0.90759076 0.90759076 0.92739274 0.92739274 0.93069307\n",
      " 0.93069307 0.93729373 0.93729373 0.94059406 0.94059406 0.94719472\n",
      " 0.94719472 0.95049505 0.95049505 0.95379538 0.95379538 0.95379538\n",
      " 0.95709571 0.95709571 0.96039604 0.96039604 0.96369637 0.96369637\n",
      " 0.9669967  0.9669967  0.97029703 0.97029703 0.97359736 0.97359736\n",
      " 0.97689769 0.97689769 0.98019802 0.98019802 0.98349835 0.98349835\n",
      " 0.98679868 0.98679868 0.99009901 0.99009901 0.99339934 0.99339934\n",
      " 0.99669967 0.99669967 0.99669967 0.99669967 1.         1.\n",
      " 1.         1.         1.         1.         1.         1.\n",
      " 1.         1.         1.         1.         1.         1.\n",
      " 1.         1.         1.         1.         1.         1.\n",
      " 1.         1.        ]\n",
      "\n",
      "\n",
      "\n",
      "Threshold:\n",
      " [           inf 9.80121758e-01 8.47878088e-01 8.45581976e-01\n",
      " 8.25875136e-01 8.24503554e-01 8.22838786e-01 8.14179779e-01\n",
      " 7.98896518e-01 7.97602352e-01 7.95207070e-01 7.90773755e-01\n",
      " 7.80668241e-01 7.79427971e-01 7.73956943e-01 7.72721398e-01\n",
      " 7.69128796e-01 7.68176321e-01 7.44054521e-01 7.43837377e-01\n",
      " 7.37542487e-01 7.36465787e-01 7.35631595e-01 7.32195231e-01\n",
      " 7.31045900e-01 7.29904371e-01 7.18622367e-01 7.18039124e-01\n",
      " 7.15631721e-01 7.13661733e-01 7.12353839e-01 7.12310715e-01\n",
      " 7.06535169e-01 7.06327145e-01 6.89237931e-01 6.87903836e-01\n",
      " 6.84980872e-01 6.83481896e-01 6.66911603e-01 6.66589441e-01\n",
      " 6.63169326e-01 6.62831759e-01 6.57722010e-01 6.53206179e-01\n",
      " 6.49021497e-01 6.48198257e-01 6.46669028e-01 6.46184359e-01\n",
      " 6.40730926e-01 6.38962446e-01 6.36865221e-01 6.33752286e-01\n",
      " 6.25575904e-01 6.23615529e-01 6.20141763e-01 6.19900042e-01\n",
      " 6.15715701e-01 6.15029256e-01 6.08818275e-01 6.08123485e-01\n",
      " 5.98878993e-01 5.98053941e-01 5.97814056e-01 5.97053032e-01\n",
      " 5.96943559e-01 5.96722099e-01 5.94481016e-01 5.85129575e-01\n",
      " 5.83910149e-01 5.74622518e-01 5.74549700e-01 5.69478927e-01\n",
      " 5.69466425e-01 5.62950336e-01 5.61920027e-01 5.58931634e-01\n",
      " 5.58374212e-01 5.57839942e-01 5.56614289e-01 5.56198801e-01\n",
      " 5.55905140e-01 5.52824686e-01 5.52047833e-01 5.43598989e-01\n",
      " 5.43194703e-01 5.38798352e-01 5.38642850e-01 5.38551428e-01\n",
      " 5.36413175e-01 5.35008474e-01 5.32224540e-01 5.31119326e-01\n",
      " 5.30786928e-01 5.28957348e-01 5.26497258e-01 5.25325505e-01\n",
      " 5.20574608e-01 5.18842697e-01 5.18469687e-01 5.09035386e-01\n",
      " 5.07353052e-01 5.02913095e-01 4.88433459e-01 4.83571385e-01\n",
      " 4.76981925e-01 4.76171883e-01 4.69423411e-01 4.60835074e-01\n",
      " 4.46574189e-01 4.43618217e-01 4.38449389e-01 4.38378701e-01\n",
      " 4.37744946e-01 4.31770511e-01 4.31337759e-01 4.31195247e-01\n",
      " 4.29878723e-01 4.28509333e-01 4.28075601e-01 4.22972137e-01\n",
      " 4.21415890e-01 4.21302383e-01 4.21104185e-01 4.19527547e-01\n",
      " 4.17792596e-01 4.15709672e-01 4.08967139e-01 4.02574541e-01\n",
      " 4.00817503e-01 3.91568346e-01 3.90805949e-01 3.87415270e-01\n",
      " 3.74541159e-01 3.74444753e-01 3.74427809e-01 3.66687438e-01\n",
      " 3.66569383e-01 3.61322202e-01 3.61126637e-01 2.27390333e-01\n",
      " 2.26436173e-01 2.22913869e-01 2.19999356e-01 1.43193850e-01\n",
      " 1.43113707e-01 7.28027905e-02 7.27156169e-02 7.22807044e-02\n",
      " 7.20308116e-02 5.14610659e-02 5.13118643e-02 2.68442516e-02\n",
      " 2.67298744e-02 1.88564494e-02 1.88275684e-02 1.61272418e-02\n",
      " 1.60960615e-02 1.54094733e-02 1.52796759e-02 5.18646500e-03\n",
      " 5.12142466e-03 2.80307053e-03 2.75494749e-03 3.59621809e-04]\n"
     ]
    }
   ],
   "source": [
    "print(f'FPR:\\n {fpr}\\n\\n\\n')\n",
    "print(f'TPR:\\n {tpr}\\n\\n\\n')\n",
    "print(f'Threshold:\\n {thr}')"
   ]
  },
  {
   "cell_type": "code",
   "execution_count": 80,
   "id": "70b824a7-61ab-48ae-af24-65eb157baad2",
   "metadata": {},
   "outputs": [
    {
     "data": {
      "image/png": "[encoded data removed]",
      "text/plain": [
       "<Figure size 640x480 with 1 Axes>"
      ]
     },
     "metadata": {},
     "output_type": "display_data"
    }
   ],
   "source": [
    "plt.plot(fpr,tpr)\n",
    "plt.title('ROC CUREVE')\n",
    "plt.xlabel('FPR')\n",
    "plt.ylabel('TPR')\n",
    "plt.show()"
   ]
  },
  {
   "cell_type": "code",
   "execution_count": 83,
   "id": "fa312410-91ce-42e7-b898-01867c0b2bbc",
   "metadata": {},
   "outputs": [
    {
     "data": {
      "text/plain": [
       "np.float64(0.9661265306858555)"
      ]
     },
     "execution_count": 83,
     "metadata": {},
     "output_type": "execute_result"
    }
   ],
   "source": [
    "roc_auc_score(y_test, probabilities)\n",
    "#or\n",
    "# auc(fpr,tpr)"
   ]
  },
  {
   "cell_type": "code",
   "execution_count": 84,
   "id": "02aea046-b85a-42e8-987a-e472e17cb822",
   "metadata": {},
   "outputs": [
    {
     "data": {
      "image/png": "[encoded data removed]",
      "text/plain": [
       "<Figure size 640x480 with 1 Axes>"
      ]
     },
     "metadata": {},
     "output_type": "display_data"
    }
   ],
   "source": [
    "plt.plot(fpr, tpr)\n",
    "plt.plot(fpr, fpr,'--', color='red')\n",
    "plt.title('ROC curve')\n",
    "plt.xlabel('FPR')\n",
    "plt.ylabel('TPR')\n",
    "plt.show()"
   ]
  },
  {
   "cell_type": "markdown",
   "id": "74270c11-a609-4bb0-acbc-53f3e6e52d32",
   "metadata": {},
   "source": [
    "# PRECISION"
   ]
  },
  {
   "cell_type": "code",
   "execution_count": null,
   "id": "ebe766e8-7206-430d-bc7e-149f0fcf73eb",
   "metadata": {},
   "outputs": [],
   "source": []
  },
  {
   "cell_type": "code",
   "execution_count": null,
   "id": "d446c431-1276-4063-a606-9dc3faba5a53",
   "metadata": {},
   "outputs": [],
   "source": []
  },
  {
   "cell_type": "code",
   "execution_count": null,
   "id": "d7ea2ef5-64e5-4a3b-9e2b-2f22537a35ba",
   "metadata": {},
   "outputs": [],
   "source": []
  }
 ],
 "metadata": {
  "kernelspec": {
   "display_name": "Python 3 (ipykernel)",
   "language": "python",
   "name": "python3"
  },
  "language_info": {
   "codemirror_mode": {
    "name": "ipython",
    "version": 3
   },
   "file_extension": ".py",
   "mimetype": "text/x-python",
   "name": "python",
   "nbconvert_exporter": "python",
   "pygments_lexer": "ipython3",
   "version": "3.12.3"
  }
 },
 "nbformat": 4,
 "nbformat_minor": 5
}
